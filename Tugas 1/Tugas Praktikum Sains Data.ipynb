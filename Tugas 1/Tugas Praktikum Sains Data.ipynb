{
 "cells": [
  {
   "cell_type": "markdown",
   "id": "a2793f89",
   "metadata": {},
   "source": [
    "# Nomor 1 "
   ]
  },
  {
   "cell_type": "markdown",
   "id": "ca57c104",
   "metadata": {},
   "source": [
    "## Ide"
   ]
  },
  {
   "cell_type": "markdown",
   "id": "5a4600d2",
   "metadata": {},
   "source": [
    "1. Bentuk data artifisial dengan y = a * X + b + GaussianNoise (np.random.rand(1))\n",
    "2. Bentuk scatter plot dari data artifisial\n",
    "3. Hitung nilai eksak coef dan intercept dari regeresi linearnya sesuai formula pada soal\n",
    "4. Membuat model regresi linear\n",
    "5. Bandingkan coef dan intercept dari model regresi linear dengan coef eksak dan intercept eksak\n",
    "6. Visualisasikan hasil model regresi linear dengan data aslinya\n",
    "7. Hitung RMSE untuk mengetahui errornya"
   ]
  },
  {
   "cell_type": "markdown",
   "id": "b3941f00",
   "metadata": {},
   "source": [
    "## Membuat data artificial"
   ]
  },
  {
   "cell_type": "code",
   "execution_count": 1,
   "id": "263dfeea",
   "metadata": {},
   "outputs": [],
   "source": [
    "import numpy as np #untuk aljabar, random nilai, array\n",
    "\n",
    "a , b = 2, 7\n",
    "X1 = np.random.rand(20)\n",
    "y1 = a*X1 + b + np.random.rand(1)"
   ]
  },
  {
   "cell_type": "code",
   "execution_count": 2,
   "id": "fe93b6ed",
   "metadata": {},
   "outputs": [
    {
     "name": "stdout",
     "output_type": "stream",
     "text": [
      "[0.91766298 0.83745342 0.92154286 0.02356097 0.66588888 0.89314928\n",
      " 0.17492985 0.65994215 0.39142487 0.02241051 0.46506293 0.1666635\n",
      " 0.37214543 0.00520073 0.3188103  0.16002174 0.25259627 0.8937825\n",
      " 0.94984301 0.2465197 ]\n"
     ]
    }
   ],
   "source": [
    "print(X1)"
   ]
  },
  {
   "cell_type": "code",
   "execution_count": 3,
   "id": "d2d29425",
   "metadata": {},
   "outputs": [
    {
     "name": "stdout",
     "output_type": "stream",
     "text": [
      "[9.65653493 9.49611582 9.6642947  7.86833091 9.15298674 9.60750754\n",
      " 8.17106867 9.14109326 8.60405871 7.86603    8.75133483 8.15453598\n",
      " 8.56549983 7.83161044 8.45882958 8.14125245 8.32640151 9.60877398\n",
      " 9.720895   8.31424838]\n"
     ]
    }
   ],
   "source": [
    "print(y1)"
   ]
  },
  {
   "cell_type": "code",
   "execution_count": 4,
   "id": "05185b66",
   "metadata": {},
   "outputs": [
    {
     "data": {
      "image/png": "[encoded data removed]",
      "text/plain": [
       "<Figure size 432x288 with 1 Axes>"
      ]
     },
     "metadata": {
      "needs_background": "light"
     },
     "output_type": "display_data"
    }
   ],
   "source": [
    "#Membuat scatter plotnya\n",
    "\n",
    "import matplotlib.pyplot as plt #untuk plotting\n",
    "\n",
    "plt.scatter(y1, X1, color = 'b')\n",
    "plt.show()"
   ]
  },
  {
   "cell_type": "markdown",
   "id": "ce2ed947",
   "metadata": {},
   "source": [
    "#### Nilai koefisien dan intercept fungsi regresi\n",
    "Intercept = $\\frac{\\sum y \\sum x^2 - \\sum x \\sum xy}{n \\sum x^2 - (\\sum x)^2}$\n",
    "\n",
    "coef = $\\frac{n \\sum xy - \\sum x \\sum y}{n \\sum x^2 - (\\sum x)^2}$"
   ]
  },
  {
   "cell_type": "code",
   "execution_count": 5,
   "id": "8b9ab36e",
   "metadata": {},
   "outputs": [
    {
     "name": "stdout",
     "output_type": "stream",
     "text": [
      "9.338611902552818\n",
      "175.1014032484458\n",
      "6.589645584129148\n",
      "86.21852636808998\n"
     ]
    }
   ],
   "source": [
    "#hitung sumasi yang dibutuhkan\n",
    "\n",
    "sum_x = sum(X1)\n",
    "print(sum_x)\n",
    "\n",
    "sum_y = sum(y1)\n",
    "print(sum_y)\n",
    "\n",
    "sum_x2 = sum(X1**2)\n",
    "print(sum_x2)\n",
    "\n",
    "sum_xy = sum(X1*y1)\n",
    "print(sum_xy)"
   ]
  },
  {
   "cell_type": "code",
   "execution_count": 6,
   "id": "e748ed7e",
   "metadata": {},
   "outputs": [
    {
     "name": "stdout",
     "output_type": "stream",
     "text": [
      "1.9999999999999925\n",
      "7.821208972167017\n"
     ]
    }
   ],
   "source": [
    "#menghitung nilai intercept dan coef (sesuai formula di soal)\n",
    "\n",
    "intercept_eksak = ((sum_y*sum_x2) - (sum_x*sum_xy))/(20*sum_x2 - (sum_x)**2)\n",
    "coef_eksak = ((20*sum_xy) - (sum_x*sum_y))/(20*sum_x2 - (sum_x)**2)\n",
    "\n",
    "print(coef_eksak)\n",
    "print(intercept_eksak)"
   ]
  },
  {
   "cell_type": "markdown",
   "id": "c6c032e5",
   "metadata": {},
   "source": [
    "## Membuat model Regresi Linear"
   ]
  },
  {
   "cell_type": "code",
   "execution_count": 7,
   "id": "bda90846",
   "metadata": {},
   "outputs": [],
   "source": [
    "#import package yang akan digunakan\n",
    "\n",
    " #untuk plotting\n",
    "import pandas as pd #untuk mengolah data\n",
    "import math as mth\n",
    "%matplotlib inline"
   ]
  },
  {
   "cell_type": "code",
   "execution_count": 8,
   "id": "70113dce",
   "metadata": {},
   "outputs": [],
   "source": [
    "#membuat data train dan test dengan perbandingan 8:2\n",
    "\n",
    "msk = np.random.rand(len(y1)) < 0.8\n",
    "train_x = X1[msk].reshape(-1,1)\n",
    "test_x =X1[~msk].reshape(-1,1)\n",
    "train_y = y1[msk].reshape(-1,1)\n",
    "test_y = y1[~msk].reshape(-1,1)"
   ]
  },
  {
   "cell_type": "code",
   "execution_count": 9,
   "id": "49c3ac9b",
   "metadata": {},
   "outputs": [
    {
     "name": "stdout",
     "output_type": "stream",
     "text": [
      "Coefficients:  [[2.]]\n",
      "y-Intercept:  [7.82120897]\n"
     ]
    }
   ],
   "source": [
    "#membuat model regresi linearnya\n",
    "\n",
    "from sklearn import linear_model\n",
    "\n",
    "regr = linear_model.LinearRegression() #definisikan model regresi linier dengan nama 'regr'\n",
    "regr.fit(train_x, train_y) #fit data training ke model regr\n",
    "\n",
    "#output koefisien dan intersepnya\n",
    "print('Coefficients: ', regr.coef_)\n",
    "print('y-Intercept: ', regr.intercept_)"
   ]
  },
  {
   "cell_type": "markdown",
   "id": "a6807399",
   "metadata": {},
   "source": [
    "## Membandingkan nilai Coef dan Intercept"
   ]
  },
  {
   "cell_type": "code",
   "execution_count": 10,
   "id": "7cfda794",
   "metadata": {},
   "outputs": [
    {
     "name": "stdout",
     "output_type": "stream",
     "text": [
      "[array([[2.]]), array([7.82120897])]\n",
      "[1.9999999999999925, 7.821208972167017]\n"
     ]
    }
   ],
   "source": [
    "print([regr.coef_, regr.intercept_])\n",
    "print([coef_eksak, intercept_eksak])\n",
    "\n",
    "#terlihat coef dan intercept yang dihasilkan dari model linear regression\n",
    "#sangat mendekati nilai eksaknya"
   ]
  },
  {
   "cell_type": "code",
   "execution_count": 11,
   "id": "a96e4045",
   "metadata": {},
   "outputs": [
    {
     "data": {
      "image/png": "[encoded data removed]",
      "text/plain": [
       "<Figure size 432x288 with 1 Axes>"
      ]
     },
     "metadata": {
      "needs_background": "light"
     },
     "output_type": "display_data"
    }
   ],
   "source": [
    "#Membuat plot model regresi dan scatter plot data yang sebenarnya\n",
    "\n",
    "plt.plot(regr.coef_*train_x + regr.intercept_, train_x, 'g')\n",
    "plt.scatter(y1, X1, color = 'b')\n",
    "plt.show()"
   ]
  },
  {
   "cell_type": "markdown",
   "id": "f9b35087",
   "metadata": {},
   "source": [
    "## Menghitung nilai RMSE"
   ]
  },
  {
   "cell_type": "code",
   "execution_count": 12,
   "id": "f37a30e8",
   "metadata": {},
   "outputs": [
    {
     "name": "stdout",
     "output_type": "stream",
     "text": [
      "Root Mean Squared Error (RMSE) : 0.000000000000\n"
     ]
    }
   ],
   "source": [
    "test_y_ = regr.predict(test_x)\n",
    "\n",
    "MSE = np.mean(np.absolute(test_y_ - test_y))\n",
    "RMSE = mth.sqrt(MSE)\n",
    "print(\"Root Mean Squared Error (RMSE) : %.12f\" %RMSE)"
   ]
  },
  {
   "cell_type": "markdown",
   "id": "fc1d0b5e",
   "metadata": {},
   "source": [
    "# Nomor 2"
   ]
  },
  {
   "cell_type": "markdown",
   "id": "e777b0e3",
   "metadata": {},
   "source": [
    "## Ide"
   ]
  },
  {
   "cell_type": "markdown",
   "id": "fb9d323d",
   "metadata": {},
   "source": [
    "1. Import data yg akan dipakai dalam format .csv\n",
    "2. Lakukan pre-processing data (memilih fitur yang akan dipakai, melihat detail data, mengonversi data kategorik menjadi numerik)\n",
    "3. Bentuk train dan test set dengan perbandingan 7:3\n",
    "4. Membuat model Multi Logistic Regresion\n",
    "5. Memprediksi data X_test dan data yang diminta pada soal dengan model yang sudah dibuat\n",
    "6. Menghitung nilai akurasi modelnya\n",
    "7. Plotting scatter plot dan decision boundariesnya"
   ]
  },
  {
   "cell_type": "code",
   "execution_count": 13,
   "id": "4bfcfeae",
   "metadata": {},
   "outputs": [],
   "source": [
    "#import package yang akan digunakan\n",
    "import numpy as np #untuk operasi2 array dan aljabar\n",
    "import pandas as pd #untuk data processing\n",
    "from sklearn import preprocessing #untuk preprocessing data\n",
    "%matplotlib inline \n",
    "import matplotlib.pyplot as plt #untuk plotting (visualisasi)"
   ]
  },
  {
   "cell_type": "code",
   "execution_count": 14,
   "id": "21bcd303",
   "metadata": {},
   "outputs": [
    {
     "data": {
      "text/html": [
       "<div>\n",
       "<style scoped>\n",
       "    .dataframe tbody tr th:only-of-type {\n",
       "        vertical-align: middle;\n",
       "    }\n",
       "\n",
       "    .dataframe tbody tr th {\n",
       "        vertical-align: top;\n",
       "    }\n",
       "\n",
       "    .dataframe thead th {\n",
       "        text-align: right;\n",
       "    }\n",
       "</style>\n",
       "<table border=\"1\" class=\"dataframe\">\n",
       "  <thead>\n",
       "    <tr style=\"text-align: right;\">\n",
       "      <th></th>\n",
       "      <th>Id</th>\n",
       "      <th>SepalLengthCm</th>\n",
       "      <th>SepalWidthCm</th>\n",
       "      <th>PetalLengthCm</th>\n",
       "      <th>PetalWidthCm</th>\n",
       "      <th>Species</th>\n",
       "    </tr>\n",
       "  </thead>\n",
       "  <tbody>\n",
       "    <tr>\n",
       "      <th>0</th>\n",
       "      <td>1</td>\n",
       "      <td>5.1</td>\n",
       "      <td>3.5</td>\n",
       "      <td>1.4</td>\n",
       "      <td>0.2</td>\n",
       "      <td>Iris-setosa</td>\n",
       "    </tr>\n",
       "    <tr>\n",
       "      <th>1</th>\n",
       "      <td>2</td>\n",
       "      <td>4.9</td>\n",
       "      <td>3.0</td>\n",
       "      <td>1.4</td>\n",
       "      <td>0.2</td>\n",
       "      <td>Iris-setosa</td>\n",
       "    </tr>\n",
       "    <tr>\n",
       "      <th>2</th>\n",
       "      <td>3</td>\n",
       "      <td>4.7</td>\n",
       "      <td>3.2</td>\n",
       "      <td>1.3</td>\n",
       "      <td>0.2</td>\n",
       "      <td>Iris-setosa</td>\n",
       "    </tr>\n",
       "    <tr>\n",
       "      <th>3</th>\n",
       "      <td>4</td>\n",
       "      <td>4.6</td>\n",
       "      <td>3.1</td>\n",
       "      <td>1.5</td>\n",
       "      <td>0.2</td>\n",
       "      <td>Iris-setosa</td>\n",
       "    </tr>\n",
       "    <tr>\n",
       "      <th>4</th>\n",
       "      <td>5</td>\n",
       "      <td>5.0</td>\n",
       "      <td>3.6</td>\n",
       "      <td>1.4</td>\n",
       "      <td>0.2</td>\n",
       "      <td>Iris-setosa</td>\n",
       "    </tr>\n",
       "    <tr>\n",
       "      <th>...</th>\n",
       "      <td>...</td>\n",
       "      <td>...</td>\n",
       "      <td>...</td>\n",
       "      <td>...</td>\n",
       "      <td>...</td>\n",
       "      <td>...</td>\n",
       "    </tr>\n",
       "    <tr>\n",
       "      <th>145</th>\n",
       "      <td>146</td>\n",
       "      <td>6.7</td>\n",
       "      <td>3.0</td>\n",
       "      <td>5.2</td>\n",
       "      <td>2.3</td>\n",
       "      <td>Iris-virginica</td>\n",
       "    </tr>\n",
       "    <tr>\n",
       "      <th>146</th>\n",
       "      <td>147</td>\n",
       "      <td>6.3</td>\n",
       "      <td>2.5</td>\n",
       "      <td>5.0</td>\n",
       "      <td>1.9</td>\n",
       "      <td>Iris-virginica</td>\n",
       "    </tr>\n",
       "    <tr>\n",
       "      <th>147</th>\n",
       "      <td>148</td>\n",
       "      <td>6.5</td>\n",
       "      <td>3.0</td>\n",
       "      <td>5.2</td>\n",
       "      <td>2.0</td>\n",
       "      <td>Iris-virginica</td>\n",
       "    </tr>\n",
       "    <tr>\n",
       "      <th>148</th>\n",
       "      <td>149</td>\n",
       "      <td>6.2</td>\n",
       "      <td>3.4</td>\n",
       "      <td>5.4</td>\n",
       "      <td>2.3</td>\n",
       "      <td>Iris-virginica</td>\n",
       "    </tr>\n",
       "    <tr>\n",
       "      <th>149</th>\n",
       "      <td>150</td>\n",
       "      <td>5.9</td>\n",
       "      <td>3.0</td>\n",
       "      <td>5.1</td>\n",
       "      <td>1.8</td>\n",
       "      <td>Iris-virginica</td>\n",
       "    </tr>\n",
       "  </tbody>\n",
       "</table>\n",
       "<p>150 rows × 6 columns</p>\n",
       "</div>"
      ],
      "text/plain": [
       "      Id  SepalLengthCm  SepalWidthCm  PetalLengthCm  PetalWidthCm  \\\n",
       "0      1            5.1           3.5            1.4           0.2   \n",
       "1      2            4.9           3.0            1.4           0.2   \n",
       "2      3            4.7           3.2            1.3           0.2   \n",
       "3      4            4.6           3.1            1.5           0.2   \n",
       "4      5            5.0           3.6            1.4           0.2   \n",
       "..   ...            ...           ...            ...           ...   \n",
       "145  146            6.7           3.0            5.2           2.3   \n",
       "146  147            6.3           2.5            5.0           1.9   \n",
       "147  148            6.5           3.0            5.2           2.0   \n",
       "148  149            6.2           3.4            5.4           2.3   \n",
       "149  150            5.9           3.0            5.1           1.8   \n",
       "\n",
       "            Species  \n",
       "0       Iris-setosa  \n",
       "1       Iris-setosa  \n",
       "2       Iris-setosa  \n",
       "3       Iris-setosa  \n",
       "4       Iris-setosa  \n",
       "..              ...  \n",
       "145  Iris-virginica  \n",
       "146  Iris-virginica  \n",
       "147  Iris-virginica  \n",
       "148  Iris-virginica  \n",
       "149  Iris-virginica  \n",
       "\n",
       "[150 rows x 6 columns]"
      ]
     },
     "execution_count": 14,
     "metadata": {},
     "output_type": "execute_result"
    }
   ],
   "source": [
    "#import data csv\n",
    "\n",
    "iris_df = pd.read_csv(r\"C:\\Users\\herar\\Downloads\\Iris.csv\")\n",
    "iris_df #melihat data yg sudah diimport"
   ]
  },
  {
   "cell_type": "markdown",
   "id": "b0f65878",
   "metadata": {},
   "source": [
    "## Pre-Processing Data"
   ]
  },
  {
   "cell_type": "code",
   "execution_count": 15,
   "id": "fe88d47b",
   "metadata": {},
   "outputs": [
    {
     "name": "stdout",
     "output_type": "stream",
     "text": [
      "Index(['Id', 'SepalLengthCm', 'SepalWidthCm', 'PetalLengthCm', 'PetalWidthCm',\n",
      "       'Species'],\n",
      "      dtype='object')\n"
     ]
    }
   ],
   "source": [
    "#cek fitur2 yang ada\n",
    "\n",
    "print(iris_df.columns)"
   ]
  },
  {
   "cell_type": "code",
   "execution_count": 16,
   "id": "0b707a50",
   "metadata": {},
   "outputs": [
    {
     "name": "stdout",
     "output_type": "stream",
     "text": [
      "<class 'pandas.core.frame.DataFrame'>\n",
      "RangeIndex: 150 entries, 0 to 149\n",
      "Data columns (total 3 columns):\n",
      " #   Column         Non-Null Count  Dtype  \n",
      "---  ------         --------------  -----  \n",
      " 0   PetalLengthCm  150 non-null    float64\n",
      " 1   PetalWidthCm   150 non-null    float64\n",
      " 2   Species        150 non-null    object \n",
      "dtypes: float64(2), object(1)\n",
      "memory usage: 3.6+ KB\n"
     ]
    }
   ],
   "source": [
    "#ambil fitur PetalLenghtCm dan PetalWidthCm saja (sesuai soal)\n",
    "\n",
    "iris_df = iris_df[['PetalLengthCm', 'PetalWidthCm',\n",
    "       'Species']]\n",
    "iris_df.info()"
   ]
  },
  {
   "cell_type": "code",
   "execution_count": 17,
   "id": "5fcc2827",
   "metadata": {},
   "outputs": [
    {
     "data": {
      "text/plain": [
       "array(['Iris-setosa', 'Iris-versicolor', 'Iris-virginica'], dtype=object)"
      ]
     },
     "execution_count": 17,
     "metadata": {},
     "output_type": "execute_result"
    }
   ],
   "source": [
    "iris_df['Species'].unique() #mengecek jenis species"
   ]
  },
  {
   "cell_type": "code",
   "execution_count": 18,
   "id": "e968a185",
   "metadata": {},
   "outputs": [
    {
     "data": {
      "text/plain": [
       "Iris-setosa        50\n",
       "Iris-versicolor    50\n",
       "Iris-virginica     50\n",
       "Name: Species, dtype: int64"
      ]
     },
     "execution_count": 18,
     "metadata": {},
     "output_type": "execute_result"
    }
   ],
   "source": [
    "iris_df['Species'].value_counts() #mengecek jumlah tiap jenis species"
   ]
  },
  {
   "cell_type": "code",
   "execution_count": 19,
   "id": "faac494f",
   "metadata": {},
   "outputs": [
    {
     "name": "stdout",
     "output_type": "stream",
     "text": [
      "Iris-setosa\n",
      "       PetalLengthCm  PetalWidthCm\n",
      "count      50.000000      50.00000\n",
      "mean        1.464000       0.24400\n",
      "std         0.173511       0.10721\n",
      "min         1.000000       0.10000\n",
      "25%         1.400000       0.20000\n",
      "50%         1.500000       0.20000\n",
      "75%         1.575000       0.30000\n",
      "max         1.900000       0.60000\n",
      "\n",
      " Iris-versicolor\n",
      "       PetalLengthCm  PetalWidthCm\n",
      "count      50.000000     50.000000\n",
      "mean        4.260000      1.326000\n",
      "std         0.469911      0.197753\n",
      "min         3.000000      1.000000\n",
      "25%         4.000000      1.200000\n",
      "50%         4.350000      1.300000\n",
      "75%         4.600000      1.500000\n",
      "max         5.100000      1.800000\n",
      "\n",
      " Iris-setosa\n",
      "       PetalLengthCm  PetalWidthCm\n",
      "count      50.000000      50.00000\n",
      "mean        5.552000       2.02600\n",
      "std         0.551895       0.27465\n",
      "min         4.500000       1.40000\n",
      "25%         5.100000       1.80000\n",
      "50%         5.550000       2.00000\n",
      "75%         5.875000       2.30000\n",
      "max         6.900000       2.50000\n"
     ]
    }
   ],
   "source": [
    "#melihat keterangan data\n",
    "\n",
    "print(\"Iris-setosa\")\n",
    "setosa = iris_df[\"Species\"] == 'Iris-setosa'\n",
    "print(iris_df[setosa].describe())\n",
    "\n",
    "print(\"\\n Iris-versicolor\")\n",
    "versicolor = iris_df[\"Species\"] == 'Iris-versicolor'\n",
    "print(iris_df[versicolor].describe())\n",
    "\n",
    "print(\"\\n Iris-setosa\")\n",
    "virginica = iris_df[\"Species\"] == 'Iris-virginica'\n",
    "print(iris_df[virginica].describe())"
   ]
  },
  {
   "cell_type": "markdown",
   "id": "bc5b0746",
   "metadata": {},
   "source": [
    "## Train dan Test Set"
   ]
  },
  {
   "cell_type": "code",
   "execution_count": 20,
   "id": "60889469",
   "metadata": {},
   "outputs": [],
   "source": [
    "#membagi data ke 2 array. X sbg data yg diketahui dan Y sbg data target\n",
    "\n",
    "X = iris_df[['PetalLengthCm', 'PetalWidthCm']].values\n",
    "Y = iris_df['Species']"
   ]
  },
  {
   "cell_type": "code",
   "execution_count": 21,
   "id": "6410c294",
   "metadata": {},
   "outputs": [],
   "source": [
    "#mengubah data kategori pada spesies menjadi numerik\n",
    "\n",
    "from sklearn.preprocessing import OrdinalEncoder\n",
    "\n",
    "ordinal_encoder = OrdinalEncoder()\n",
    "Y_new = ordinal_encoder.fit_transform(np.array([Y]).reshape(-1,1))\n",
    "Y_new = Y_new.ravel()\n",
    "\n",
    "#0 = Iris-setosa, 1 = Iris-versicolor, 2 = Iris-virginica"
   ]
  },
  {
   "cell_type": "code",
   "execution_count": 22,
   "id": "fb518e10",
   "metadata": {},
   "outputs": [
    {
     "name": "stdout",
     "output_type": "stream",
     "text": [
      "Train set:  (105, 2) (105,)\n",
      "Test set:  (45, 2) (45,)\n"
     ]
    }
   ],
   "source": [
    "#membagi data train dan test dengan perbandingan 7 : 3\n",
    "\n",
    "from sklearn.model_selection import train_test_split\n",
    "\n",
    "X_train, X_test, Y_train, Y_test = train_test_split(X, Y, test_size = 0.3, random_state = 4)\n",
    "print('Train set: ', X_train.shape, Y_train.shape)\n",
    "print('Test set: ', X_test.shape, Y_test.shape)"
   ]
  },
  {
   "cell_type": "markdown",
   "id": "65b483ab",
   "metadata": {},
   "source": [
    "## Membuat Model Multi Logistic Regression"
   ]
  },
  {
   "cell_type": "code",
   "execution_count": 23,
   "id": "0a6c128e",
   "metadata": {},
   "outputs": [
    {
     "data": {
      "text/plain": [
       "LogisticRegression(multi_class='multinomial', solver='newton-cg')"
      ]
     },
     "execution_count": 23,
     "metadata": {},
     "output_type": "execute_result"
    }
   ],
   "source": [
    "#membuat model regresi logistik\n",
    "\n",
    "from sklearn.linear_model import LogisticRegression\n",
    "from sklearn.metrics import confusion_matrix\n",
    "\n",
    "LR = LogisticRegression(multi_class = 'multinomial', solver = 'newton-cg')\n",
    "LR.fit(X_train, Y_train)"
   ]
  },
  {
   "cell_type": "markdown",
   "id": "9648f481",
   "metadata": {},
   "source": [
    "## Memprediksi data"
   ]
  },
  {
   "cell_type": "code",
   "execution_count": 24,
   "id": "2ec31be7",
   "metadata": {},
   "outputs": [
    {
     "data": {
      "text/plain": [
       "array(['Iris-virginica', 'Iris-setosa', 'Iris-virginica',\n",
       "       'Iris-virginica', 'Iris-virginica', 'Iris-versicolor',\n",
       "       'Iris-virginica', 'Iris-setosa', 'Iris-setosa', 'Iris-virginica',\n",
       "       'Iris-setosa', 'Iris-setosa', 'Iris-setosa', 'Iris-versicolor',\n",
       "       'Iris-virginica', 'Iris-setosa', 'Iris-versicolor', 'Iris-setosa',\n",
       "       'Iris-setosa', 'Iris-virginica', 'Iris-setosa', 'Iris-virginica',\n",
       "       'Iris-versicolor', 'Iris-setosa', 'Iris-setosa', 'Iris-setosa',\n",
       "       'Iris-setosa', 'Iris-setosa', 'Iris-setosa', 'Iris-virginica',\n",
       "       'Iris-versicolor', 'Iris-setosa', 'Iris-virginica', 'Iris-setosa',\n",
       "       'Iris-versicolor', 'Iris-virginica', 'Iris-virginica',\n",
       "       'Iris-versicolor', 'Iris-versicolor', 'Iris-setosa',\n",
       "       'Iris-virginica', 'Iris-setosa', 'Iris-versicolor', 'Iris-setosa',\n",
       "       'Iris-virginica'], dtype=object)"
      ]
     },
     "execution_count": 24,
     "metadata": {},
     "output_type": "execute_result"
    }
   ],
   "source": [
    "#Prediksi dengan data X_test\n",
    "\n",
    "Ytest = LR.predict(X_test)\n",
    "Ytest"
   ]
  },
  {
   "cell_type": "code",
   "execution_count": 25,
   "id": "9dffcac4",
   "metadata": {},
   "outputs": [
    {
     "name": "stdout",
     "output_type": "stream",
     "text": [
      "1. Petal lenght, Petal width = [[4, 2]] adalah bunga ['Iris-versicolor'] \n",
      "\n",
      "2. Petal lenght, Petal width = [[2.4, 3]] adalah bunga ['Iris-setosa'] \n",
      "\n",
      "3. Petal lenght, Petal width = [[5.6, 3.3]] adalah bunga ['Iris-virginica'] \n"
     ]
    }
   ],
   "source": [
    "#Prediksi sesuai soal\n",
    "\n",
    "soal1 = [[4, 2]]\n",
    "Ysoal1 = LR.predict(soal1)\n",
    "print(\"1. Petal lenght, Petal width = {} adalah bunga {} \" .format(soal1, Ysoal1))\n",
    "\n",
    "soal2 = [[2.4, 3]]\n",
    "Ysoal2 = LR.predict(soal2)\n",
    "print(\"\\n2. Petal lenght, Petal width = {} adalah bunga {} \" .format(soal2, Ysoal2))\n",
    "\n",
    "soal3 = [[5.6, 3.3]]\n",
    "Ysoal3 = LR.predict(soal3)\n",
    "print(\"\\n3. Petal lenght, Petal width = {} adalah bunga {} \" .format(soal3, Ysoal3))"
   ]
  },
  {
   "cell_type": "code",
   "execution_count": 26,
   "id": "9279da00",
   "metadata": {},
   "outputs": [
    {
     "name": "stdout",
     "output_type": "stream",
     "text": [
      "Nilai akurasi dari model Multi Logistic Regression :  0.9777777777777777\n"
     ]
    }
   ],
   "source": [
    "#Menghitung nilai akurasinya\n",
    "\n",
    "from sklearn.metrics import accuracy_score\n",
    "\n",
    "print(\"Nilai akurasi dari model Multi Logistic Regression : \", accuracy_score(Y_test, Ytest))"
   ]
  },
  {
   "cell_type": "markdown",
   "id": "5f94ddf8",
   "metadata": {},
   "source": [
    "## Membuat Plot"
   ]
  },
  {
   "cell_type": "code",
   "execution_count": 27,
   "id": "59026d89",
   "metadata": {},
   "outputs": [
    {
     "data": {
      "image/png": "[encoded data removed]",
      "text/plain": [
       "<Figure size 648x288 with 1 Axes>"
      ]
     },
     "metadata": {
      "needs_background": "light"
     },
     "output_type": "display_data"
    }
   ],
   "source": [
    "import matplotlib.pyplot as plt\n",
    "\n",
    "x0, x1 = np.meshgrid(\n",
    "        np.linspace(0, 8, 500).reshape(-1, 1),\n",
    "        np.linspace(0, 3.5, 200).reshape(-1, 1),\n",
    "    )\n",
    "X_new = np.c_[x0.ravel(), x1.ravel()]\n",
    "\n",
    "y_predict = LR.predict(X_new)\n",
    "\n",
    "ordinal_encoder = OrdinalEncoder()\n",
    "Y_plot = ordinal_encoder.fit_transform(np.array([y_predict]).reshape(-1,1))\n",
    "Y_plot = Y_plot.ravel()\n",
    "\n",
    "zz = Y_plot.reshape(x0.shape)\n",
    "\n",
    "plt.figure(figsize = (9, 4))\n",
    "\n",
    "plt.contourf(x0, x1, zz, cmap = plt.cm.cool)\n",
    "\n",
    "plt.scatter(x = 'PetalLengthCm', y = 'PetalWidthCm', data = iris_df[Y_new == 0.], marker = 'v', label = 'Iris-setosa', c = 'orange')\n",
    "plt.scatter(x = 'PetalLengthCm', y = 'PetalWidthCm', data = iris_df[Y_new == 1.], marker = '+', label = 'Iris-versicolor', c = 'red')\n",
    "plt.scatter(x = 'PetalLengthCm', y = 'PetalWidthCm', data = iris_df[Y_new == 2.], marker = '^', label = 'Iris-virginica', c = 'green')\n",
    "\n",
    "plt.xlabel(\"Petal Length (cm)\")\n",
    "plt.ylabel(\"Petal Width (cm)\")\n",
    "plt.title('Decision Boundaries')\n",
    "plt.legend(loc = \"upper left\")\n",
    "plt.show()"
   ]
  },
  {
   "cell_type": "markdown",
   "id": "182ff913",
   "metadata": {},
   "source": [
    "# Nomor 3 "
   ]
  },
  {
   "cell_type": "markdown",
   "id": "dd0c3c01",
   "metadata": {},
   "source": [
    "## Ide"
   ]
  },
  {
   "cell_type": "markdown",
   "id": "1c5b3332",
   "metadata": {},
   "source": [
    "1. Import data yang akan digunakan dalam format .csv\n",
    "2. Lakukan pre-processing data (memilih fitur yang akan dipakai, melihat detail data, mengonversi data, normalisasi data jika diperlukan oleh model)\n",
    "3. Bentuk train dan test set dengan perbandingan 8:2\n",
    "4. Membuat model, pada soal ini akan kita buat 3 model, yaitu Logistic regression, Decision Tree, dan SVM\n",
    "5. Memprediksi data X_test dengan model yang telah dibentuk\n",
    "6. Mengevaluasi model (membentuk confusion matrix, mengecek nilai akurasi)\n",
    "7. Membuat visualisasi (pada model decision tree)\n",
    "8. Membuat file .pkl untuk menyimpan model yang sudah dibuat\n",
    "\n",
    "Notes : step 2-8 dilakukan pada setiap model yang akan dibentuk"
   ]
  },
  {
   "cell_type": "code",
   "execution_count": 28,
   "id": "e49180a2",
   "metadata": {},
   "outputs": [],
   "source": [
    "#import package yang akan digunakan\n",
    "\n",
    "import numpy as np #untuk aljabar\n",
    "import pandas as pd #untuk mengolah data\n",
    "from sklearn import preprocessing #untuk preprocessing dan modeling\n",
    "%matplotlib inline\n",
    "import matplotlib.pyplot as plt #untuk visualiasi plotting"
   ]
  },
  {
   "cell_type": "code",
   "execution_count": 29,
   "id": "7d24f2fd",
   "metadata": {},
   "outputs": [
    {
     "data": {
      "text/html": [
       "<div>\n",
       "<style scoped>\n",
       "    .dataframe tbody tr th:only-of-type {\n",
       "        vertical-align: middle;\n",
       "    }\n",
       "\n",
       "    .dataframe tbody tr th {\n",
       "        vertical-align: top;\n",
       "    }\n",
       "\n",
       "    .dataframe thead th {\n",
       "        text-align: right;\n",
       "    }\n",
       "</style>\n",
       "<table border=\"1\" class=\"dataframe\">\n",
       "  <thead>\n",
       "    <tr style=\"text-align: right;\">\n",
       "      <th></th>\n",
       "      <th>age</th>\n",
       "      <th>sex</th>\n",
       "      <th>cp</th>\n",
       "      <th>trtbps</th>\n",
       "      <th>chol</th>\n",
       "      <th>fbs</th>\n",
       "      <th>restecg</th>\n",
       "      <th>thalachh</th>\n",
       "      <th>exng</th>\n",
       "      <th>oldpeak</th>\n",
       "      <th>slp</th>\n",
       "      <th>caa</th>\n",
       "      <th>thall</th>\n",
       "      <th>output</th>\n",
       "    </tr>\n",
       "  </thead>\n",
       "  <tbody>\n",
       "    <tr>\n",
       "      <th>0</th>\n",
       "      <td>63</td>\n",
       "      <td>1</td>\n",
       "      <td>3</td>\n",
       "      <td>145</td>\n",
       "      <td>233</td>\n",
       "      <td>1</td>\n",
       "      <td>0</td>\n",
       "      <td>150</td>\n",
       "      <td>0</td>\n",
       "      <td>2.3</td>\n",
       "      <td>0</td>\n",
       "      <td>0</td>\n",
       "      <td>1</td>\n",
       "      <td>1</td>\n",
       "    </tr>\n",
       "    <tr>\n",
       "      <th>1</th>\n",
       "      <td>37</td>\n",
       "      <td>1</td>\n",
       "      <td>2</td>\n",
       "      <td>130</td>\n",
       "      <td>250</td>\n",
       "      <td>0</td>\n",
       "      <td>1</td>\n",
       "      <td>187</td>\n",
       "      <td>0</td>\n",
       "      <td>3.5</td>\n",
       "      <td>0</td>\n",
       "      <td>0</td>\n",
       "      <td>2</td>\n",
       "      <td>1</td>\n",
       "    </tr>\n",
       "    <tr>\n",
       "      <th>2</th>\n",
       "      <td>41</td>\n",
       "      <td>0</td>\n",
       "      <td>1</td>\n",
       "      <td>130</td>\n",
       "      <td>204</td>\n",
       "      <td>0</td>\n",
       "      <td>0</td>\n",
       "      <td>172</td>\n",
       "      <td>0</td>\n",
       "      <td>1.4</td>\n",
       "      <td>2</td>\n",
       "      <td>0</td>\n",
       "      <td>2</td>\n",
       "      <td>1</td>\n",
       "    </tr>\n",
       "    <tr>\n",
       "      <th>3</th>\n",
       "      <td>56</td>\n",
       "      <td>1</td>\n",
       "      <td>1</td>\n",
       "      <td>120</td>\n",
       "      <td>236</td>\n",
       "      <td>0</td>\n",
       "      <td>1</td>\n",
       "      <td>178</td>\n",
       "      <td>0</td>\n",
       "      <td>0.8</td>\n",
       "      <td>2</td>\n",
       "      <td>0</td>\n",
       "      <td>2</td>\n",
       "      <td>1</td>\n",
       "    </tr>\n",
       "    <tr>\n",
       "      <th>4</th>\n",
       "      <td>57</td>\n",
       "      <td>0</td>\n",
       "      <td>0</td>\n",
       "      <td>120</td>\n",
       "      <td>354</td>\n",
       "      <td>0</td>\n",
       "      <td>1</td>\n",
       "      <td>163</td>\n",
       "      <td>1</td>\n",
       "      <td>0.6</td>\n",
       "      <td>2</td>\n",
       "      <td>0</td>\n",
       "      <td>2</td>\n",
       "      <td>1</td>\n",
       "    </tr>\n",
       "    <tr>\n",
       "      <th>...</th>\n",
       "      <td>...</td>\n",
       "      <td>...</td>\n",
       "      <td>...</td>\n",
       "      <td>...</td>\n",
       "      <td>...</td>\n",
       "      <td>...</td>\n",
       "      <td>...</td>\n",
       "      <td>...</td>\n",
       "      <td>...</td>\n",
       "      <td>...</td>\n",
       "      <td>...</td>\n",
       "      <td>...</td>\n",
       "      <td>...</td>\n",
       "      <td>...</td>\n",
       "    </tr>\n",
       "    <tr>\n",
       "      <th>298</th>\n",
       "      <td>57</td>\n",
       "      <td>0</td>\n",
       "      <td>0</td>\n",
       "      <td>140</td>\n",
       "      <td>241</td>\n",
       "      <td>0</td>\n",
       "      <td>1</td>\n",
       "      <td>123</td>\n",
       "      <td>1</td>\n",
       "      <td>0.2</td>\n",
       "      <td>1</td>\n",
       "      <td>0</td>\n",
       "      <td>3</td>\n",
       "      <td>0</td>\n",
       "    </tr>\n",
       "    <tr>\n",
       "      <th>299</th>\n",
       "      <td>45</td>\n",
       "      <td>1</td>\n",
       "      <td>3</td>\n",
       "      <td>110</td>\n",
       "      <td>264</td>\n",
       "      <td>0</td>\n",
       "      <td>1</td>\n",
       "      <td>132</td>\n",
       "      <td>0</td>\n",
       "      <td>1.2</td>\n",
       "      <td>1</td>\n",
       "      <td>0</td>\n",
       "      <td>3</td>\n",
       "      <td>0</td>\n",
       "    </tr>\n",
       "    <tr>\n",
       "      <th>300</th>\n",
       "      <td>68</td>\n",
       "      <td>1</td>\n",
       "      <td>0</td>\n",
       "      <td>144</td>\n",
       "      <td>193</td>\n",
       "      <td>1</td>\n",
       "      <td>1</td>\n",
       "      <td>141</td>\n",
       "      <td>0</td>\n",
       "      <td>3.4</td>\n",
       "      <td>1</td>\n",
       "      <td>2</td>\n",
       "      <td>3</td>\n",
       "      <td>0</td>\n",
       "    </tr>\n",
       "    <tr>\n",
       "      <th>301</th>\n",
       "      <td>57</td>\n",
       "      <td>1</td>\n",
       "      <td>0</td>\n",
       "      <td>130</td>\n",
       "      <td>131</td>\n",
       "      <td>0</td>\n",
       "      <td>1</td>\n",
       "      <td>115</td>\n",
       "      <td>1</td>\n",
       "      <td>1.2</td>\n",
       "      <td>1</td>\n",
       "      <td>1</td>\n",
       "      <td>3</td>\n",
       "      <td>0</td>\n",
       "    </tr>\n",
       "    <tr>\n",
       "      <th>302</th>\n",
       "      <td>57</td>\n",
       "      <td>0</td>\n",
       "      <td>1</td>\n",
       "      <td>130</td>\n",
       "      <td>236</td>\n",
       "      <td>0</td>\n",
       "      <td>0</td>\n",
       "      <td>174</td>\n",
       "      <td>0</td>\n",
       "      <td>0.0</td>\n",
       "      <td>1</td>\n",
       "      <td>1</td>\n",
       "      <td>2</td>\n",
       "      <td>0</td>\n",
       "    </tr>\n",
       "  </tbody>\n",
       "</table>\n",
       "<p>303 rows × 14 columns</p>\n",
       "</div>"
      ],
      "text/plain": [
       "     age  sex  cp  trtbps  chol  fbs  restecg  thalachh  exng  oldpeak  slp  \\\n",
       "0     63    1   3     145   233    1        0       150     0      2.3    0   \n",
       "1     37    1   2     130   250    0        1       187     0      3.5    0   \n",
       "2     41    0   1     130   204    0        0       172     0      1.4    2   \n",
       "3     56    1   1     120   236    0        1       178     0      0.8    2   \n",
       "4     57    0   0     120   354    0        1       163     1      0.6    2   \n",
       "..   ...  ...  ..     ...   ...  ...      ...       ...   ...      ...  ...   \n",
       "298   57    0   0     140   241    0        1       123     1      0.2    1   \n",
       "299   45    1   3     110   264    0        1       132     0      1.2    1   \n",
       "300   68    1   0     144   193    1        1       141     0      3.4    1   \n",
       "301   57    1   0     130   131    0        1       115     1      1.2    1   \n",
       "302   57    0   1     130   236    0        0       174     0      0.0    1   \n",
       "\n",
       "     caa  thall  output  \n",
       "0      0      1       1  \n",
       "1      0      2       1  \n",
       "2      0      2       1  \n",
       "3      0      2       1  \n",
       "4      0      2       1  \n",
       "..   ...    ...     ...  \n",
       "298    0      3       0  \n",
       "299    0      3       0  \n",
       "300    2      3       0  \n",
       "301    1      3       0  \n",
       "302    1      2       0  \n",
       "\n",
       "[303 rows x 14 columns]"
      ]
     },
     "execution_count": 29,
     "metadata": {},
     "output_type": "execute_result"
    }
   ],
   "source": [
    "#import data csv\n",
    "\n",
    "heart_df = pd.read_csv(r\"C:\\Users\\herar\\Downloads\\heart.csv\")\n",
    "heart_df #melihat data yg sudah diimport"
   ]
  },
  {
   "cell_type": "markdown",
   "id": "bad5975f",
   "metadata": {},
   "source": [
    "## Pre-processing data"
   ]
  },
  {
   "cell_type": "code",
   "execution_count": 30,
   "id": "2d52cc29",
   "metadata": {},
   "outputs": [
    {
     "name": "stdout",
     "output_type": "stream",
     "text": [
      "Index(['age', 'sex', 'cp', 'trtbps', 'chol', 'fbs', 'restecg', 'thalachh',\n",
      "       'exng', 'oldpeak', 'slp', 'caa', 'thall', 'output'],\n",
      "      dtype='object')\n"
     ]
    }
   ],
   "source": [
    "#cek fitur2 yang ada\n",
    "\n",
    "print(heart_df.columns)"
   ]
  },
  {
   "cell_type": "code",
   "execution_count": 31,
   "id": "bb5b1e48",
   "metadata": {},
   "outputs": [
    {
     "name": "stdout",
     "output_type": "stream",
     "text": [
      "<class 'pandas.core.frame.DataFrame'>\n",
      "RangeIndex: 303 entries, 0 to 302\n",
      "Data columns (total 6 columns):\n",
      " #   Column    Non-Null Count  Dtype  \n",
      "---  ------    --------------  -----  \n",
      " 0   age       303 non-null    int64  \n",
      " 1   trtbps    303 non-null    int64  \n",
      " 2   chol      303 non-null    int64  \n",
      " 3   thalachh  303 non-null    int64  \n",
      " 4   oldpeak   303 non-null    float64\n",
      " 5   output    303 non-null    int64  \n",
      "dtypes: float64(1), int64(5)\n",
      "memory usage: 14.3 KB\n"
     ]
    }
   ],
   "source": [
    "#pilih fitur yang diduga berpengaruh thdp prediksi heart attack pasien\n",
    "\n",
    "heart_df = heart_df[['age', 'trtbps', 'chol', 'thalachh', 'oldpeak', 'output']]\n",
    "heart_df.info()"
   ]
  },
  {
   "cell_type": "markdown",
   "id": "71a49d5f",
   "metadata": {},
   "source": [
    "## Membagi train set dan test test"
   ]
  },
  {
   "cell_type": "code",
   "execution_count": 32,
   "id": "9079aa5c",
   "metadata": {},
   "outputs": [],
   "source": [
    "X3 = heart_df[['age', 'trtbps', 'chol', 'thalachh', 'oldpeak']].values\n",
    "Y3 = heart_df['output']"
   ]
  },
  {
   "cell_type": "code",
   "execution_count": 33,
   "id": "50af184c",
   "metadata": {},
   "outputs": [
    {
     "name": "stdout",
     "output_type": "stream",
     "text": [
      "Train Set :  (242, 5) (242,)\n",
      "Test Set :  (61, 5) (61,)\n"
     ]
    }
   ],
   "source": [
    "from sklearn.model_selection import train_test_split\n",
    "X_train, X_test, Y_train, Y_test = train_test_split(X3, Y3, test_size = 0.2, random_state = 4)\n",
    "print('Train Set : ', X_train.shape, Y_train.shape)\n",
    "print('Test Set : ', X_test.shape, Y_test.shape)"
   ]
  },
  {
   "cell_type": "markdown",
   "id": "d637d368",
   "metadata": {},
   "source": [
    "## Model Logistic Regression"
   ]
  },
  {
   "cell_type": "code",
   "execution_count": 34,
   "id": "fc281907",
   "metadata": {},
   "outputs": [
    {
     "data": {
      "text/plain": [
       "LogisticRegression(C=0.01, solver='liblinear')"
      ]
     },
     "execution_count": 34,
     "metadata": {},
     "output_type": "execute_result"
    }
   ],
   "source": [
    "from sklearn.linear_model import LogisticRegression\n",
    "from sklearn.metrics import confusion_matrix\n",
    "\n",
    "heartLR = LogisticRegression(C = 0.01, solver='liblinear').fit(X_train, Y_train)\n",
    "heartLR"
   ]
  },
  {
   "cell_type": "code",
   "execution_count": 35,
   "id": "95d55179",
   "metadata": {},
   "outputs": [
    {
     "data": {
      "text/plain": [
       "array([1, 0, 1, 1, 1, 1, 1, 1, 1, 1, 1, 1, 0, 1, 1, 0, 1, 1, 1, 1, 1, 1,\n",
       "       0, 0, 1, 0, 0, 1, 1, 1, 1, 1, 1, 1, 0, 1, 1, 1, 1, 0, 0, 0, 0, 1,\n",
       "       1, 0, 0, 1, 0, 0, 0, 1, 0, 1, 1, 1, 1, 1, 0, 0, 1], dtype=int64)"
      ]
     },
     "execution_count": 35,
     "metadata": {},
     "output_type": "execute_result"
    }
   ],
   "source": [
    "#prediksi nilai Y dengan data X_test\n",
    "\n",
    "Yhat = heartLR.predict(X_test)\n",
    "Yhat"
   ]
  },
  {
   "cell_type": "code",
   "execution_count": 36,
   "id": "f5adec46",
   "metadata": {},
   "outputs": [
    {
     "data": {
      "text/plain": [
       "array([[0.19065561, 0.80934439],\n",
       "       [0.63031   , 0.36969   ],\n",
       "       [0.37530723, 0.62469277],\n",
       "       [0.16395905, 0.83604095],\n",
       "       [0.47111993, 0.52888007],\n",
       "       [0.39918013, 0.60081987],\n",
       "       [0.45674845, 0.54325155],\n",
       "       [0.11321111, 0.88678889],\n",
       "       [0.44640025, 0.55359975],\n",
       "       [0.24813106, 0.75186894],\n",
       "       [0.33368502, 0.66631498],\n",
       "       [0.13591939, 0.86408061],\n",
       "       [0.52362614, 0.47637386],\n",
       "       [0.29809065, 0.70190935],\n",
       "       [0.45632606, 0.54367394],\n",
       "       [0.84491909, 0.15508091],\n",
       "       [0.35808163, 0.64191837],\n",
       "       [0.25429158, 0.74570842],\n",
       "       [0.38711512, 0.61288488],\n",
       "       [0.34708968, 0.65291032],\n",
       "       [0.14610299, 0.85389701],\n",
       "       [0.31061156, 0.68938844],\n",
       "       [0.75829119, 0.24170881],\n",
       "       [0.5842119 , 0.4157881 ],\n",
       "       [0.38672616, 0.61327384],\n",
       "       [0.61443024, 0.38556976],\n",
       "       [0.63665491, 0.36334509],\n",
       "       [0.4848567 , 0.5151433 ],\n",
       "       [0.26967359, 0.73032641],\n",
       "       [0.40758391, 0.59241609],\n",
       "       [0.38434898, 0.61565102],\n",
       "       [0.39051516, 0.60948484],\n",
       "       [0.20643574, 0.79356426],\n",
       "       [0.28877481, 0.71122519],\n",
       "       [0.55811432, 0.44188568],\n",
       "       [0.25202044, 0.74797956],\n",
       "       [0.20504059, 0.79495941],\n",
       "       [0.46215068, 0.53784932],\n",
       "       [0.40973123, 0.59026877],\n",
       "       [0.69236747, 0.30763253],\n",
       "       [0.79375384, 0.20624616],\n",
       "       [0.57559816, 0.42440184],\n",
       "       [0.6240988 , 0.3759012 ],\n",
       "       [0.46021838, 0.53978162],\n",
       "       [0.18515829, 0.81484171],\n",
       "       [0.53058145, 0.46941855],\n",
       "       [0.62189698, 0.37810302],\n",
       "       [0.28911753, 0.71088247],\n",
       "       [0.77790627, 0.22209373],\n",
       "       [0.63937927, 0.36062073],\n",
       "       [0.62399902, 0.37600098],\n",
       "       [0.28251249, 0.71748751],\n",
       "       [0.84994685, 0.15005315],\n",
       "       [0.25758804, 0.74241196],\n",
       "       [0.2744746 , 0.7255254 ],\n",
       "       [0.08594179, 0.91405821],\n",
       "       [0.31114939, 0.68885061],\n",
       "       [0.23717178, 0.76282822],\n",
       "       [0.83521865, 0.16478135],\n",
       "       [0.66681414, 0.33318586],\n",
       "       [0.47008144, 0.52991856]])"
      ]
     },
     "execution_count": 36,
     "metadata": {},
     "output_type": "execute_result"
    }
   ],
   "source": [
    "#memprediksi probabilitas dari entri df (per baris)\n",
    "\n",
    "Yhat_prob = heartLR.predict_proba(X_test)\n",
    "Yhat_prob #kiri terhadap kelas 0; kanan terhadap kelas 1"
   ]
  },
  {
   "cell_type": "markdown",
   "id": "04cbe4df",
   "metadata": {},
   "source": [
    "### Evaluasi model"
   ]
  },
  {
   "cell_type": "code",
   "execution_count": 37,
   "id": "fecf566d",
   "metadata": {},
   "outputs": [],
   "source": [
    "from sklearn.metrics import classification_report, confusion_matrix\n",
    "import itertools\n",
    "\n",
    "#membuat visualisasi dengan confusion matrix\n",
    "def plot_confusion_matrix(cm, classes, normalize=False, title='Confusion matriks heart_LR',cmap=plt.cm.Set2):\n",
    "    if normalize:\n",
    "        cm = cm.astype('float') / cm.sum(axis=1)[:, np.newaxis]\n",
    "        print(\"Normalized confusion matrix\")\n",
    "    else:\n",
    "        print('Confusion matrix, without normalization')\n",
    "    print(cm)\n",
    "    \n",
    "    plt.imshow(cm, interpolation='nearest', cmap=cmap)\n",
    "    plt.title(title)\n",
    "    plt.colorbar()\n",
    "    tick_marks = np.arange(len(classes))\n",
    "    plt.xticks(tick_marks, classes, rotation=45)\n",
    "    plt.yticks(tick_marks, classes)\n",
    "    \n",
    "    fmt = '.2f' if normalize else 'd'\n",
    "    thresh = cm.max() / 2.\n",
    "    for i, j in itertools.product(range(cm.shape[0]), range(cm.shape[1])):\n",
    "        plt.text(j, i, format(cm[i, j], fmt),horizontalalignment=\"center\",color=\"red\" if cm[i, j] > thresh else \"black\")\n",
    "    \n",
    "    plt.tight_layout()\n",
    "    plt.ylabel('True label')\n",
    "    plt.xlabel('Predicted label')"
   ]
  },
  {
   "cell_type": "code",
   "execution_count": 38,
   "id": "6d4f0d96",
   "metadata": {},
   "outputs": [
    {
     "name": "stdout",
     "output_type": "stream",
     "text": [
      "Confusion matrix, without normalization\n",
      "[[31  5]\n",
      " [10 15]]\n"
     ]
    },
    {
     "data": {
      "image/png": "[encoded data removed]",
      "text/plain": [
       "<Figure size 432x288 with 2 Axes>"
      ]
     },
     "metadata": {
      "needs_background": "light"
     },
     "output_type": "display_data"
    }
   ],
   "source": [
    "#memanggil fungsi confusion matrix\n",
    "cnf = confusion_matrix(Y_test, Yhat, labels=[1,0])\n",
    "plt.figure()\n",
    "plot_confusion_matrix(cnf,classes=['High =1', 'Low=0'],normalize = False, title='Confusion matrix')"
   ]
  },
  {
   "cell_type": "code",
   "execution_count": 39,
   "id": "17ced7a5",
   "metadata": {},
   "outputs": [],
   "source": [
    "import pickle\n",
    "pickle.dump(heartLR, open('heartLR.pkl', 'wb'))"
   ]
  },
  {
   "cell_type": "markdown",
   "id": "8d75f888",
   "metadata": {},
   "source": [
    "## Decision Tree"
   ]
  },
  {
   "cell_type": "code",
   "execution_count": 40,
   "id": "ef508663",
   "metadata": {},
   "outputs": [
    {
     "data": {
      "text/plain": [
       "array([[ 0.9521966 ,  0.76395577, -0.25633371,  0.01544279,  1.08733806],\n",
       "       [-1.91531289, -0.09273778,  0.07219949,  1.63347147,  2.12257273],\n",
       "       [-1.47415758, -0.09273778, -0.81677269,  0.97751389,  0.31091206],\n",
       "       ...,\n",
       "       [ 1.50364073,  0.70684287, -1.029353  , -0.37813176,  2.03630317],\n",
       "       [ 0.29046364, -0.09273778, -2.2275329 , -1.51512489,  0.13837295],\n",
       "       [ 0.29046364, -0.09273778, -0.19835726,  1.0649749 , -0.89686172]])"
      ]
     },
     "execution_count": 40,
     "metadata": {},
     "output_type": "execute_result"
    }
   ],
   "source": [
    "#normalisasi data\n",
    "X3_1 = preprocessing.StandardScaler().fit(X3).transform(X3)\n",
    "X3_1"
   ]
  },
  {
   "cell_type": "code",
   "execution_count": 41,
   "id": "1fae77f0",
   "metadata": {},
   "outputs": [
    {
     "data": {
      "text/plain": [
       "0      High\n",
       "1      High\n",
       "2      High\n",
       "3      High\n",
       "4      High\n",
       "       ... \n",
       "298     Low\n",
       "299     Low\n",
       "300     Low\n",
       "301     Low\n",
       "302     Low\n",
       "Name: output, Length: 303, dtype: category\n",
       "Categories (2, object): ['Low' < 'High']"
      ]
     },
     "execution_count": 41,
     "metadata": {},
     "output_type": "execute_result"
    }
   ],
   "source": [
    "#mengubah data numerik pada kolom output menjadi data kategorik\n",
    "Y3_1 = pd.cut(heart_df['output'], bins = [-1,0,1], labels=['Low','High'])\n",
    "Y3_1"
   ]
  },
  {
   "cell_type": "code",
   "execution_count": 42,
   "id": "da2dbf9b",
   "metadata": {},
   "outputs": [
    {
     "name": "stdout",
     "output_type": "stream",
     "text": [
      "Train Set :  (242, 5) (242,)\n",
      "Test Set :  (61, 5) (61,)\n"
     ]
    }
   ],
   "source": [
    "from sklearn.model_selection import train_test_split\n",
    "X_train, X_test, Y_train, Y_test = train_test_split(X3_1, Y3_1, test_size = 0.2, random_state = 1)\n",
    "print('Train Set : ', X_train.shape, Y_train.shape)\n",
    "print('Test Set : ', X_test.shape, Y_test.shape)"
   ]
  },
  {
   "cell_type": "markdown",
   "id": "9b845a6a",
   "metadata": {},
   "source": [
    "### Membuat model Decision Tree"
   ]
  },
  {
   "cell_type": "code",
   "execution_count": 43,
   "id": "a5bfe966",
   "metadata": {},
   "outputs": [
    {
     "name": "stdout",
     "output_type": "stream",
     "text": [
      "DecisionTreeClassifier(criterion='entropy', max_depth=3)\n"
     ]
    }
   ],
   "source": [
    "from sklearn.tree import DecisionTreeClassifier\n",
    "heartTree = DecisionTreeClassifier(criterion = 'entropy', max_depth = 3)\n",
    "print(heartTree.fit(X_train, Y_train))\n",
    "predTree = heartTree.predict(X_test)"
   ]
  },
  {
   "cell_type": "markdown",
   "id": "dd212ef3",
   "metadata": {},
   "source": [
    "### Memprediksi data"
   ]
  },
  {
   "cell_type": "code",
   "execution_count": 44,
   "id": "5e691662",
   "metadata": {},
   "outputs": [
    {
     "data": {
      "text/html": [
       "<div>\n",
       "<style scoped>\n",
       "    .dataframe tbody tr th:only-of-type {\n",
       "        vertical-align: middle;\n",
       "    }\n",
       "\n",
       "    .dataframe tbody tr th {\n",
       "        vertical-align: top;\n",
       "    }\n",
       "\n",
       "    .dataframe thead th {\n",
       "        text-align: right;\n",
       "    }\n",
       "</style>\n",
       "<table border=\"1\" class=\"dataframe\">\n",
       "  <thead>\n",
       "    <tr style=\"text-align: right;\">\n",
       "      <th></th>\n",
       "      <th>Y_test</th>\n",
       "      <th>Predicted</th>\n",
       "    </tr>\n",
       "  </thead>\n",
       "  <tbody>\n",
       "    <tr>\n",
       "      <th>204</th>\n",
       "      <td>Low</td>\n",
       "      <td>Low</td>\n",
       "    </tr>\n",
       "    <tr>\n",
       "      <th>159</th>\n",
       "      <td>High</td>\n",
       "      <td>High</td>\n",
       "    </tr>\n",
       "    <tr>\n",
       "      <th>219</th>\n",
       "      <td>Low</td>\n",
       "      <td>High</td>\n",
       "    </tr>\n",
       "    <tr>\n",
       "      <th>174</th>\n",
       "      <td>Low</td>\n",
       "      <td>Low</td>\n",
       "    </tr>\n",
       "    <tr>\n",
       "      <th>184</th>\n",
       "      <td>Low</td>\n",
       "      <td>Low</td>\n",
       "    </tr>\n",
       "    <tr>\n",
       "      <th>...</th>\n",
       "      <td>...</td>\n",
       "      <td>...</td>\n",
       "    </tr>\n",
       "    <tr>\n",
       "      <th>0</th>\n",
       "      <td>High</td>\n",
       "      <td>Low</td>\n",
       "    </tr>\n",
       "    <tr>\n",
       "      <th>288</th>\n",
       "      <td>Low</td>\n",
       "      <td>Low</td>\n",
       "    </tr>\n",
       "    <tr>\n",
       "      <th>259</th>\n",
       "      <td>Low</td>\n",
       "      <td>High</td>\n",
       "    </tr>\n",
       "    <tr>\n",
       "      <th>179</th>\n",
       "      <td>Low</td>\n",
       "      <td>High</td>\n",
       "    </tr>\n",
       "    <tr>\n",
       "      <th>110</th>\n",
       "      <td>High</td>\n",
       "      <td>High</td>\n",
       "    </tr>\n",
       "  </tbody>\n",
       "</table>\n",
       "<p>61 rows × 2 columns</p>\n",
       "</div>"
      ],
      "text/plain": [
       "    Y_test Predicted\n",
       "204    Low       Low\n",
       "159   High      High\n",
       "219    Low      High\n",
       "174    Low       Low\n",
       "184    Low       Low\n",
       "..     ...       ...\n",
       "0     High       Low\n",
       "288    Low       Low\n",
       "259    Low      High\n",
       "179    Low      High\n",
       "110   High      High\n",
       "\n",
       "[61 rows x 2 columns]"
      ]
     },
     "execution_count": 44,
     "metadata": {},
     "output_type": "execute_result"
    }
   ],
   "source": [
    "#membandingkan output dari X_test dengan hasil prediksi model\n",
    "comparison = {\"Y_test\" : Y_test, \"Predicted\": predTree}\n",
    "comp = pd.DataFrame(comparison)\n",
    "comp"
   ]
  },
  {
   "cell_type": "markdown",
   "id": "7fc40a7d",
   "metadata": {},
   "source": [
    "### Mengecek nilai akurasi"
   ]
  },
  {
   "cell_type": "code",
   "execution_count": 45,
   "id": "ed4838da",
   "metadata": {},
   "outputs": [
    {
     "name": "stdout",
     "output_type": "stream",
     "text": [
      "Nilai akurasi model Decision Tree :  0.7377049180327869\n"
     ]
    }
   ],
   "source": [
    "from sklearn.metrics import accuracy_score\n",
    "print(\"Nilai akurasi model Decision Tree : \", accuracy_score(Y_test, predTree))"
   ]
  },
  {
   "cell_type": "markdown",
   "id": "133bd4f9",
   "metadata": {},
   "source": [
    "### Visualisasi Decision Tree"
   ]
  },
  {
   "cell_type": "code",
   "execution_count": 46,
   "id": "56466900",
   "metadata": {},
   "outputs": [
    {
     "data": {
      "text/plain": [
       "<matplotlib.image.AxesImage at 0x1f3bbd11760>"
      ]
     },
     "execution_count": 46,
     "metadata": {},
     "output_type": "execute_result"
    },
    {
     "data": {
      "image/png": "[encoded data removed]",
      "text/plain": [
       "<Figure size 7200x14400 with 1 Axes>"
      ]
     },
     "metadata": {
      "needs_background": "light"
     },
     "output_type": "display_data"
    }
   ],
   "source": [
    "from io import StringIO\n",
    "import pydotplus\n",
    "import matplotlib.image as mpimg\n",
    "from sklearn import tree\n",
    "%matplotlib inline\n",
    "import matplotlib.pyplot as plt\n",
    "\n",
    "dot_data = StringIO()\n",
    "filename = \"hearttree.png\"\n",
    "featureNames = heart_df.columns[0:5]\n",
    "out = tree.export_graphviz(heartTree, feature_names=featureNames, out_file=dot_data, class_names=np.unique(Y_train),filled=True, special_characters = True, rotate = False) #graphviz untuk membuat graph di phython\n",
    "graph = pydotplus.graph_from_dot_data(dot_data.getvalue())\n",
    "graph.write_png(filename)\n",
    "img = mpimg.imread(filename)\n",
    "plt.figure(figsize=(100,200)) #ukuran 100 x 200\n",
    "plt.imshow(img, interpolation='nearest')"
   ]
  },
  {
   "cell_type": "code",
   "execution_count": 47,
   "id": "81db39c2",
   "metadata": {},
   "outputs": [],
   "source": [
    "pickle.dump(heartTree, open('heartTree.pkl', 'wb'))"
   ]
  },
  {
   "cell_type": "markdown",
   "id": "0d033887",
   "metadata": {},
   "source": [
    "## SVM"
   ]
  },
  {
   "cell_type": "code",
   "execution_count": 48,
   "id": "129cd856",
   "metadata": {},
   "outputs": [
    {
     "data": {
      "text/plain": [
       "age         int64\n",
       "trtbps      int64\n",
       "chol        int64\n",
       "thalachh    int64\n",
       "oldpeak     int32\n",
       "output      int64\n",
       "dtype: object"
      ]
     },
     "execution_count": 48,
     "metadata": {},
     "output_type": "execute_result"
    }
   ],
   "source": [
    "#mengubah tipe data oldpeak dari float menjadi integer\n",
    "heart_df = heart_df[pd.to_numeric(heart_df['oldpeak'],errors=\"coerce\").notnull()]\n",
    "heart_df['oldpeak'] = heart_df['oldpeak'].astype('int')\n",
    "heart_df.dtypes"
   ]
  },
  {
   "cell_type": "code",
   "execution_count": 49,
   "id": "ce35d501",
   "metadata": {},
   "outputs": [
    {
     "name": "stdout",
     "output_type": "stream",
     "text": [
      "Train Set :  (242, 5) (242,)\n",
      "Test Set :  (61, 5) (61,)\n"
     ]
    }
   ],
   "source": [
    "from sklearn.model_selection import train_test_split\n",
    "X_train, X_test, Y_train, Y_test = train_test_split(X3, Y3, test_size = 0.2, random_state = 4)\n",
    "print('Train Set : ', X_train.shape, Y_train.shape)\n",
    "print('Test Set : ', X_test.shape, Y_test.shape)"
   ]
  },
  {
   "cell_type": "markdown",
   "id": "f093587b",
   "metadata": {},
   "source": [
    "### Membuat Model"
   ]
  },
  {
   "cell_type": "code",
   "execution_count": 50,
   "id": "f74ceb98",
   "metadata": {},
   "outputs": [
    {
     "data": {
      "text/plain": [
       "SVC()"
      ]
     },
     "execution_count": 50,
     "metadata": {},
     "output_type": "execute_result"
    }
   ],
   "source": [
    "from sklearn import svm\n",
    "heartSVM = svm.SVC(kernel='rbf')\n",
    "heartSVM.fit(X_train, Y_train)"
   ]
  },
  {
   "cell_type": "code",
   "execution_count": 51,
   "id": "d677ccfe",
   "metadata": {},
   "outputs": [
    {
     "data": {
      "text/plain": [
       "array([1, 0, 1, 1, 0, 1, 1, 1, 1, 1, 1, 1, 1, 1, 0, 0, 1, 1, 1, 1, 1, 1,\n",
       "       0, 1, 1, 0, 0, 1, 1, 1, 1, 1, 1, 1, 0, 1, 1, 0, 1, 1, 1, 0, 0, 0,\n",
       "       1, 0, 0, 1, 0, 0, 0, 1, 0, 1, 1, 1, 1, 1, 1, 0, 0], dtype=int64)"
      ]
     },
     "execution_count": 51,
     "metadata": {},
     "output_type": "execute_result"
    }
   ],
   "source": [
    "#Prediksi\n",
    "Yhat3 = heartSVM.predict(X_test)\n",
    "Yhat3"
   ]
  },
  {
   "cell_type": "code",
   "execution_count": 52,
   "id": "5b8c09e3",
   "metadata": {},
   "outputs": [
    {
     "name": "stdout",
     "output_type": "stream",
     "text": [
      "0.40625\n",
      "0.6041666666666666\n"
     ]
    }
   ],
   "source": [
    "#Evaluasi Jaccard score\n",
    "from sklearn.metrics import jaccard_score\n",
    "print(jaccard_score(Y_test, Yhat3, pos_label=0))\n",
    "print(jaccard_score(Y_test, Yhat3, pos_label=1))"
   ]
  },
  {
   "cell_type": "code",
   "execution_count": 53,
   "id": "be9ef5c9",
   "metadata": {},
   "outputs": [
    {
     "name": "stdout",
     "output_type": "stream",
     "text": [
      "0.5777777777777778\n",
      "0.7532467532467532\n"
     ]
    }
   ],
   "source": [
    "#Evaluasi f1-score\n",
    "from sklearn.metrics import f1_score\n",
    "print(f1_score(Y_test, Yahat3, pos_label=0))\n",
    "print(f1_score(Y_test, Yhat3, pos_label=1))"
   ]
  },
  {
   "cell_type": "code",
   "execution_count": 54,
   "id": "97effba9",
   "metadata": {},
   "outputs": [],
   "source": [
    "#visualisasi confusion matrix\n",
    "from sklearn.metrics import classification_report, confusion_matrix\n",
    "import itertools\n",
    "def plot_confusion_matrix(cm, classes,normalize=False,title='Confusion matrix',cmap=plt.cm.Pastel2):\n",
    "    if normalize:\n",
    "        cm = cm.astype('float') / cm.sum(axis=1)[:, np.newaxis]\n",
    "        print(\"Normalized confusion matrix\")\n",
    "    else:\n",
    "        print('Confusion matrix, without normalization')\n",
    "    print(cm)\n",
    "    plt.imshow(cm, interpolation='nearest', cmap=cmap)\n",
    "    plt.title(title)\n",
    "    plt.colorbar()\n",
    "    tick_marks = np.arange(len(classes))\n",
    "    plt.xticks(tick_marks, classes, rotation=45)\n",
    "    plt.yticks(tick_marks, classes)\n",
    "    \n",
    "    fmt = '.2f' if normalize else 'd'\n",
    "    thresh = cm.max() / 2.\n",
    "    for i, j in itertools.product(range(cm.shape[0]), range(cm.shape[1])):\n",
    "        plt.text(j, i, format(cm[i, j], fmt), horizontalalignment=\"center\", color=\"red\" if cm[i, j] > thresh else \"black\")\n",
    "    plt.tight_layout()\n",
    "    plt.ylabel('True label')\n",
    "    plt.xlabel('Predicted label')"
   ]
  },
  {
   "cell_type": "code",
   "execution_count": 55,
   "id": "b4aa710a",
   "metadata": {},
   "outputs": [
    {
     "name": "stdout",
     "output_type": "stream",
     "text": [
      "Confusion matrix, without normalization\n",
      "[[15 10]\n",
      " [ 5 31]]\n"
     ]
    },
    {
     "data": {
      "image/png": "[encoded data removed]",
      "text/plain": [
       "<Figure size 432x288 with 2 Axes>"
      ]
     },
     "metadata": {
      "needs_background": "light"
     },
     "output_type": "display_data"
    }
   ],
   "source": [
    "#confusion matrix\n",
    "cnf_matrix =confusion_matrix(Y_test, Yhat, labels=[0,1])\n",
    "plt.figure()\n",
    "plot_confusion_matrix(cnf_matrix,classes=['High=1', 'Low=0'],normalize = False, title='Confusion matrix')"
   ]
  },
  {
   "cell_type": "code",
   "execution_count": 56,
   "id": "2f0b0fc3",
   "metadata": {},
   "outputs": [],
   "source": [
    "pickle.dump(heartSVM, open('heartSVM.pkl', 'wb'))"
   ]
  },
  {
   "cell_type": "markdown",
   "id": "18401e09",
   "metadata": {},
   "source": [
    "## Nomor 4"
   ]
  },
  {
   "cell_type": "markdown",
   "id": "056962ca",
   "metadata": {},
   "source": [
    "## Ide"
   ]
  },
  {
   "cell_type": "markdown",
   "id": "19e93d9c",
   "metadata": {},
   "source": [
    "Ide program nomor 4 sama dengan nomor 3, yaitu :\n",
    "\n",
    "1. Import data yang akan digunakan dalam format .csv\n",
    "2. Lakukan pre-processing data (memilih fitur yang akan dipakai, melihat detail data, mengonversi data, normalisasi data jika diperlukan oleh model)\n",
    "3. Bentuk train dan test set dengan perbandingan 8:2\n",
    "4. Membuat model, pada soal ini akan kita buat 3 model, yaitu Logistic regression, Decision Tree, dan SVM\n",
    "5. Memprediksi data X_test dengan model yang telah dibentuk\n",
    "6. Mengevaluasi model (membentuk confusion matrix, mengecek nilai akurasi)\n",
    "7. Membuat visualisasi (pada model decision tree)\n",
    "8. Membuat file .pkl untuk menyimpan model yang sudah dibuat\n",
    "\n",
    "Notes : step 2-8 dilakukan pada setiap model yang akan dibentuk"
   ]
  },
  {
   "cell_type": "code",
   "execution_count": 57,
   "id": "935c3d12",
   "metadata": {},
   "outputs": [],
   "source": [
    "#import package yang akan digunakan\n",
    "\n",
    "import numpy as np #untuk aljabar\n",
    "import pandas as pd #untuk mengolah data\n",
    "from sklearn import preprocessing #untuk preprocessing dan modeling\n",
    "%matplotlib inline\n",
    "import matplotlib.pyplot as plt #untuk visualiasi plotting"
   ]
  },
  {
   "cell_type": "code",
   "execution_count": 58,
   "id": "ebb58c84",
   "metadata": {},
   "outputs": [
    {
     "data": {
      "text/html": [
       "<div>\n",
       "<style scoped>\n",
       "    .dataframe tbody tr th:only-of-type {\n",
       "        vertical-align: middle;\n",
       "    }\n",
       "\n",
       "    .dataframe tbody tr th {\n",
       "        vertical-align: top;\n",
       "    }\n",
       "\n",
       "    .dataframe thead th {\n",
       "        text-align: right;\n",
       "    }\n",
       "</style>\n",
       "<table border=\"1\" class=\"dataframe\">\n",
       "  <thead>\n",
       "    <tr style=\"text-align: right;\">\n",
       "      <th></th>\n",
       "      <th>ID</th>\n",
       "      <th>Gender</th>\n",
       "      <th>Own_car</th>\n",
       "      <th>Own_property</th>\n",
       "      <th>Work_phone</th>\n",
       "      <th>Phone</th>\n",
       "      <th>Email</th>\n",
       "      <th>Unemployed</th>\n",
       "      <th>Num_children</th>\n",
       "      <th>Num_family</th>\n",
       "      <th>Account_length</th>\n",
       "      <th>Total_income</th>\n",
       "      <th>Age</th>\n",
       "      <th>Years_employed</th>\n",
       "      <th>Income_type</th>\n",
       "      <th>Education_type</th>\n",
       "      <th>Family_status</th>\n",
       "      <th>Housing_type</th>\n",
       "      <th>Occupation_type</th>\n",
       "      <th>Target</th>\n",
       "    </tr>\n",
       "  </thead>\n",
       "  <tbody>\n",
       "    <tr>\n",
       "      <th>0</th>\n",
       "      <td>5008804</td>\n",
       "      <td>1</td>\n",
       "      <td>1</td>\n",
       "      <td>1</td>\n",
       "      <td>1</td>\n",
       "      <td>0</td>\n",
       "      <td>0</td>\n",
       "      <td>0</td>\n",
       "      <td>0</td>\n",
       "      <td>2</td>\n",
       "      <td>15</td>\n",
       "      <td>427500.0</td>\n",
       "      <td>32.868574</td>\n",
       "      <td>12.435574</td>\n",
       "      <td>Working</td>\n",
       "      <td>Higher education</td>\n",
       "      <td>Civil marriage</td>\n",
       "      <td>Rented apartment</td>\n",
       "      <td>Other</td>\n",
       "      <td>1</td>\n",
       "    </tr>\n",
       "    <tr>\n",
       "      <th>1</th>\n",
       "      <td>5008806</td>\n",
       "      <td>1</td>\n",
       "      <td>1</td>\n",
       "      <td>1</td>\n",
       "      <td>0</td>\n",
       "      <td>0</td>\n",
       "      <td>0</td>\n",
       "      <td>0</td>\n",
       "      <td>0</td>\n",
       "      <td>2</td>\n",
       "      <td>29</td>\n",
       "      <td>112500.0</td>\n",
       "      <td>58.793815</td>\n",
       "      <td>3.104787</td>\n",
       "      <td>Working</td>\n",
       "      <td>Secondary / secondary special</td>\n",
       "      <td>Married</td>\n",
       "      <td>House / apartment</td>\n",
       "      <td>Security staff</td>\n",
       "      <td>0</td>\n",
       "    </tr>\n",
       "    <tr>\n",
       "      <th>2</th>\n",
       "      <td>5008808</td>\n",
       "      <td>0</td>\n",
       "      <td>0</td>\n",
       "      <td>1</td>\n",
       "      <td>0</td>\n",
       "      <td>1</td>\n",
       "      <td>1</td>\n",
       "      <td>0</td>\n",
       "      <td>0</td>\n",
       "      <td>1</td>\n",
       "      <td>4</td>\n",
       "      <td>270000.0</td>\n",
       "      <td>52.321403</td>\n",
       "      <td>8.353354</td>\n",
       "      <td>Commercial associate</td>\n",
       "      <td>Secondary / secondary special</td>\n",
       "      <td>Single / not married</td>\n",
       "      <td>House / apartment</td>\n",
       "      <td>Sales staff</td>\n",
       "      <td>0</td>\n",
       "    </tr>\n",
       "    <tr>\n",
       "      <th>3</th>\n",
       "      <td>5008812</td>\n",
       "      <td>0</td>\n",
       "      <td>0</td>\n",
       "      <td>1</td>\n",
       "      <td>0</td>\n",
       "      <td>0</td>\n",
       "      <td>0</td>\n",
       "      <td>1</td>\n",
       "      <td>0</td>\n",
       "      <td>1</td>\n",
       "      <td>20</td>\n",
       "      <td>283500.0</td>\n",
       "      <td>61.504343</td>\n",
       "      <td>0.000000</td>\n",
       "      <td>Pensioner</td>\n",
       "      <td>Higher education</td>\n",
       "      <td>Separated</td>\n",
       "      <td>House / apartment</td>\n",
       "      <td>Other</td>\n",
       "      <td>0</td>\n",
       "    </tr>\n",
       "    <tr>\n",
       "      <th>4</th>\n",
       "      <td>5008815</td>\n",
       "      <td>1</td>\n",
       "      <td>1</td>\n",
       "      <td>1</td>\n",
       "      <td>1</td>\n",
       "      <td>1</td>\n",
       "      <td>1</td>\n",
       "      <td>0</td>\n",
       "      <td>0</td>\n",
       "      <td>2</td>\n",
       "      <td>5</td>\n",
       "      <td>270000.0</td>\n",
       "      <td>46.193967</td>\n",
       "      <td>2.105450</td>\n",
       "      <td>Working</td>\n",
       "      <td>Higher education</td>\n",
       "      <td>Married</td>\n",
       "      <td>House / apartment</td>\n",
       "      <td>Accountants</td>\n",
       "      <td>0</td>\n",
       "    </tr>\n",
       "    <tr>\n",
       "      <th>...</th>\n",
       "      <td>...</td>\n",
       "      <td>...</td>\n",
       "      <td>...</td>\n",
       "      <td>...</td>\n",
       "      <td>...</td>\n",
       "      <td>...</td>\n",
       "      <td>...</td>\n",
       "      <td>...</td>\n",
       "      <td>...</td>\n",
       "      <td>...</td>\n",
       "      <td>...</td>\n",
       "      <td>...</td>\n",
       "      <td>...</td>\n",
       "      <td>...</td>\n",
       "      <td>...</td>\n",
       "      <td>...</td>\n",
       "      <td>...</td>\n",
       "      <td>...</td>\n",
       "      <td>...</td>\n",
       "      <td>...</td>\n",
       "    </tr>\n",
       "    <tr>\n",
       "      <th>9704</th>\n",
       "      <td>5148694</td>\n",
       "      <td>0</td>\n",
       "      <td>0</td>\n",
       "      <td>0</td>\n",
       "      <td>0</td>\n",
       "      <td>0</td>\n",
       "      <td>0</td>\n",
       "      <td>0</td>\n",
       "      <td>0</td>\n",
       "      <td>2</td>\n",
       "      <td>20</td>\n",
       "      <td>180000.0</td>\n",
       "      <td>56.400884</td>\n",
       "      <td>0.542106</td>\n",
       "      <td>Pensioner</td>\n",
       "      <td>Secondary / secondary special</td>\n",
       "      <td>Civil marriage</td>\n",
       "      <td>Municipal apartment</td>\n",
       "      <td>Laborers</td>\n",
       "      <td>1</td>\n",
       "    </tr>\n",
       "    <tr>\n",
       "      <th>9705</th>\n",
       "      <td>5149055</td>\n",
       "      <td>0</td>\n",
       "      <td>0</td>\n",
       "      <td>1</td>\n",
       "      <td>1</td>\n",
       "      <td>1</td>\n",
       "      <td>0</td>\n",
       "      <td>0</td>\n",
       "      <td>0</td>\n",
       "      <td>2</td>\n",
       "      <td>19</td>\n",
       "      <td>112500.0</td>\n",
       "      <td>43.360233</td>\n",
       "      <td>7.375921</td>\n",
       "      <td>Commercial associate</td>\n",
       "      <td>Secondary / secondary special</td>\n",
       "      <td>Married</td>\n",
       "      <td>House / apartment</td>\n",
       "      <td>Other</td>\n",
       "      <td>1</td>\n",
       "    </tr>\n",
       "    <tr>\n",
       "      <th>9706</th>\n",
       "      <td>5149729</td>\n",
       "      <td>1</td>\n",
       "      <td>1</td>\n",
       "      <td>1</td>\n",
       "      <td>0</td>\n",
       "      <td>0</td>\n",
       "      <td>0</td>\n",
       "      <td>0</td>\n",
       "      <td>0</td>\n",
       "      <td>2</td>\n",
       "      <td>21</td>\n",
       "      <td>90000.0</td>\n",
       "      <td>52.296762</td>\n",
       "      <td>4.711938</td>\n",
       "      <td>Working</td>\n",
       "      <td>Secondary / secondary special</td>\n",
       "      <td>Married</td>\n",
       "      <td>House / apartment</td>\n",
       "      <td>Other</td>\n",
       "      <td>1</td>\n",
       "    </tr>\n",
       "    <tr>\n",
       "      <th>9707</th>\n",
       "      <td>5149838</td>\n",
       "      <td>0</td>\n",
       "      <td>0</td>\n",
       "      <td>1</td>\n",
       "      <td>0</td>\n",
       "      <td>1</td>\n",
       "      <td>1</td>\n",
       "      <td>0</td>\n",
       "      <td>0</td>\n",
       "      <td>2</td>\n",
       "      <td>32</td>\n",
       "      <td>157500.0</td>\n",
       "      <td>33.914454</td>\n",
       "      <td>3.627727</td>\n",
       "      <td>Pensioner</td>\n",
       "      <td>Higher education</td>\n",
       "      <td>Married</td>\n",
       "      <td>House / apartment</td>\n",
       "      <td>Medicine staff</td>\n",
       "      <td>1</td>\n",
       "    </tr>\n",
       "    <tr>\n",
       "      <th>9708</th>\n",
       "      <td>5150337</td>\n",
       "      <td>1</td>\n",
       "      <td>0</td>\n",
       "      <td>1</td>\n",
       "      <td>0</td>\n",
       "      <td>0</td>\n",
       "      <td>0</td>\n",
       "      <td>0</td>\n",
       "      <td>0</td>\n",
       "      <td>1</td>\n",
       "      <td>13</td>\n",
       "      <td>112500.0</td>\n",
       "      <td>25.155890</td>\n",
       "      <td>3.266323</td>\n",
       "      <td>Working</td>\n",
       "      <td>Secondary / secondary special</td>\n",
       "      <td>Single / not married</td>\n",
       "      <td>Rented apartment</td>\n",
       "      <td>Laborers</td>\n",
       "      <td>1</td>\n",
       "    </tr>\n",
       "  </tbody>\n",
       "</table>\n",
       "<p>9709 rows × 20 columns</p>\n",
       "</div>"
      ],
      "text/plain": [
       "           ID  Gender  Own_car  Own_property  Work_phone  Phone  Email  \\\n",
       "0     5008804       1        1             1           1      0      0   \n",
       "1     5008806       1        1             1           0      0      0   \n",
       "2     5008808       0        0             1           0      1      1   \n",
       "3     5008812       0        0             1           0      0      0   \n",
       "4     5008815       1        1             1           1      1      1   \n",
       "...       ...     ...      ...           ...         ...    ...    ...   \n",
       "9704  5148694       0        0             0           0      0      0   \n",
       "9705  5149055       0        0             1           1      1      0   \n",
       "9706  5149729       1        1             1           0      0      0   \n",
       "9707  5149838       0        0             1           0      1      1   \n",
       "9708  5150337       1        0             1           0      0      0   \n",
       "\n",
       "      Unemployed  Num_children  Num_family  Account_length  Total_income  \\\n",
       "0              0             0           2              15      427500.0   \n",
       "1              0             0           2              29      112500.0   \n",
       "2              0             0           1               4      270000.0   \n",
       "3              1             0           1              20      283500.0   \n",
       "4              0             0           2               5      270000.0   \n",
       "...          ...           ...         ...             ...           ...   \n",
       "9704           0             0           2              20      180000.0   \n",
       "9705           0             0           2              19      112500.0   \n",
       "9706           0             0           2              21       90000.0   \n",
       "9707           0             0           2              32      157500.0   \n",
       "9708           0             0           1              13      112500.0   \n",
       "\n",
       "            Age  Years_employed           Income_type  \\\n",
       "0     32.868574       12.435574               Working   \n",
       "1     58.793815        3.104787               Working   \n",
       "2     52.321403        8.353354  Commercial associate   \n",
       "3     61.504343        0.000000             Pensioner   \n",
       "4     46.193967        2.105450               Working   \n",
       "...         ...             ...                   ...   \n",
       "9704  56.400884        0.542106             Pensioner   \n",
       "9705  43.360233        7.375921  Commercial associate   \n",
       "9706  52.296762        4.711938               Working   \n",
       "9707  33.914454        3.627727             Pensioner   \n",
       "9708  25.155890        3.266323               Working   \n",
       "\n",
       "                     Education_type         Family_status  \\\n",
       "0                  Higher education        Civil marriage   \n",
       "1     Secondary / secondary special               Married   \n",
       "2     Secondary / secondary special  Single / not married   \n",
       "3                  Higher education             Separated   \n",
       "4                  Higher education               Married   \n",
       "...                             ...                   ...   \n",
       "9704  Secondary / secondary special        Civil marriage   \n",
       "9705  Secondary / secondary special               Married   \n",
       "9706  Secondary / secondary special               Married   \n",
       "9707               Higher education               Married   \n",
       "9708  Secondary / secondary special  Single / not married   \n",
       "\n",
       "             Housing_type Occupation_type  Target  \n",
       "0        Rented apartment           Other       1  \n",
       "1       House / apartment  Security staff       0  \n",
       "2       House / apartment     Sales staff       0  \n",
       "3       House / apartment           Other       0  \n",
       "4       House / apartment     Accountants       0  \n",
       "...                   ...             ...     ...  \n",
       "9704  Municipal apartment        Laborers       1  \n",
       "9705    House / apartment           Other       1  \n",
       "9706    House / apartment           Other       1  \n",
       "9707    House / apartment  Medicine staff       1  \n",
       "9708     Rented apartment        Laborers       1  \n",
       "\n",
       "[9709 rows x 20 columns]"
      ]
     },
     "execution_count": 58,
     "metadata": {},
     "output_type": "execute_result"
    }
   ],
   "source": [
    "#import data csv\n",
    "\n",
    "cc_df = pd.read_csv(r\"C:\\Users\\herar\\Downloads\\CreditCard.csv\")\n",
    "cc_df #melihat data yg sudah diimport"
   ]
  },
  {
   "cell_type": "markdown",
   "id": "9c475c02",
   "metadata": {},
   "source": [
    "## Pre-processing data"
   ]
  },
  {
   "cell_type": "code",
   "execution_count": 59,
   "id": "2c26c344",
   "metadata": {},
   "outputs": [
    {
     "name": "stdout",
     "output_type": "stream",
     "text": [
      "Index(['ID', 'Gender', 'Own_car', 'Own_property', 'Work_phone', 'Phone',\n",
      "       'Email', 'Unemployed', 'Num_children', 'Num_family', 'Account_length',\n",
      "       'Total_income', 'Age', 'Years_employed', 'Income_type',\n",
      "       'Education_type', 'Family_status', 'Housing_type', 'Occupation_type',\n",
      "       'Target'],\n",
      "      dtype='object')\n"
     ]
    }
   ],
   "source": [
    "#cek fitur2 yang ada\n",
    "\n",
    "print(cc_df.columns)"
   ]
  },
  {
   "cell_type": "code",
   "execution_count": 60,
   "id": "9f23cb94",
   "metadata": {},
   "outputs": [
    {
     "name": "stdout",
     "output_type": "stream",
     "text": [
      "<class 'pandas.core.frame.DataFrame'>\n",
      "RangeIndex: 9709 entries, 0 to 9708\n",
      "Data columns (total 6 columns):\n",
      " #   Column           Non-Null Count  Dtype  \n",
      "---  ------           --------------  -----  \n",
      " 0   Own_property     9709 non-null   int64  \n",
      " 1   Unemployed       9709 non-null   int64  \n",
      " 2   Total_income     9709 non-null   float64\n",
      " 3   Housing_type     9709 non-null   object \n",
      " 4   Occupation_type  9709 non-null   object \n",
      " 5   Target           9709 non-null   int64  \n",
      "dtypes: float64(1), int64(3), object(2)\n",
      "memory usage: 455.2+ KB\n"
     ]
    }
   ],
   "source": [
    "#pilih fitur yang diduga berpengaruh thdp prediksi resiko gagal bayar\n",
    "\n",
    "cdf = cc_df[['Own_property', 'Unemployed', 'Total_income', 'Housing_type', 'Occupation_type', 'Target']]\n",
    "cdf.info()"
   ]
  },
  {
   "cell_type": "code",
   "execution_count": 61,
   "id": "28cdfae5",
   "metadata": {},
   "outputs": [
    {
     "name": "stdout",
     "output_type": "stream",
     "text": [
      "Housingtype ['Rented apartment' 'House / apartment' 'Municipal apartment'\n",
      " 'With parents' 'Co-op apartment' 'Office apartment']\n",
      "\n",
      "Occupationtype ['Other' 'Security staff' 'Sales staff' 'Accountants' 'Laborers'\n",
      " 'Managers' 'Drivers' 'Core staff' 'High skill tech staff'\n",
      " 'Cleaning staff' 'Private service staff' 'Cooking staff'\n",
      " 'Low-skill Laborers' 'Medicine staff' 'Secretaries'\n",
      " 'Waiters/barmen staff' 'HR staff' 'Realty agents' 'IT staff']\n"
     ]
    }
   ],
   "source": [
    "#mengecek variasi data pada fitur2 yang dipilih\n",
    "Housingtype = pd.unique(cdf['Housing_type'])\n",
    "print('Housingtype',  Housingtype)\n",
    "\n",
    "Occupationtype = pd.unique(cdf['Occupation_type'])\n",
    "print('\\nOccupationtype', Occupationtype)"
   ]
  },
  {
   "cell_type": "code",
   "execution_count": 62,
   "id": "72ea44ff",
   "metadata": {},
   "outputs": [
    {
     "data": {
      "text/plain": [
       "array([[1, 0, 427500.0, 'Rented apartment', 'Other', 1],\n",
       "       [1, 0, 112500.0, 'House / apartment', 'Security staff', 0],\n",
       "       [1, 0, 270000.0, 'House / apartment', 'Sales staff', 0],\n",
       "       ...,\n",
       "       [1, 0, 90000.0, 'House / apartment', 'Other', 1],\n",
       "       [1, 0, 157500.0, 'House / apartment', 'Medicine staff', 1],\n",
       "       [1, 0, 112500.0, 'Rented apartment', 'Laborers', 1]], dtype=object)"
      ]
     },
     "execution_count": 62,
     "metadata": {},
     "output_type": "execute_result"
    }
   ],
   "source": [
    "#melihat value per baris\n",
    "X = cdf[['Own_property', 'Unemployed', 'Total_income', 'Housing_type', 'Occupation_type', 'Target']].values\n",
    "X"
   ]
  },
  {
   "cell_type": "markdown",
   "id": "64fe94d6",
   "metadata": {},
   "source": [
    "## Train-test data set"
   ]
  },
  {
   "cell_type": "code",
   "execution_count": 63,
   "id": "249434a9",
   "metadata": {},
   "outputs": [
    {
     "data": {
      "text/plain": [
       "array([[1, 0, 427500.0, 4, 12, 1],\n",
       "       [1, 0, 112500.0, 1, 17, 0],\n",
       "       [1, 0, 270000.0, 1, 15, 0],\n",
       "       ...,\n",
       "       [1, 0, 90000.0, 1, 12, 1],\n",
       "       [1, 0, 157500.0, 1, 11, 1],\n",
       "       [1, 0, 112500.0, 4, 8, 1]], dtype=object)"
      ]
     },
     "execution_count": 63,
     "metadata": {},
     "output_type": "execute_result"
    }
   ],
   "source": [
    "#mengubah data kategorik menjadi numerik\n",
    "from sklearn import preprocessing\n",
    "le_Housing_type = preprocessing.LabelEncoder()\n",
    "le_Housing_type.fit(['Rented apartment','House / apartment','Municipal apartment','With parents','Co-op apartment','Office apartment'])\n",
    "X[:, 3] = le_Housing_type.transform(X[:, 3])\n",
    "le_Occupation_type = preprocessing.LabelEncoder()\n",
    "le_Occupation_type.fit(['Other','Security staff','Sales staff','Accountants','Laborers','Managers','Drivers','Core staff','High skill tech staff','Cleaning staff','Private service staff','Cooking staff','Low-skill Laborers','Medicine staff','Secretaries','Waiters/barmen staff','HR staff','Realty agents','IT staff'])\n",
    "X[:, 4] = le_Occupation_type.transform(X[:, 4])\n",
    "X"
   ]
  },
  {
   "cell_type": "code",
   "execution_count": 64,
   "id": "6f728c7e",
   "metadata": {},
   "outputs": [
    {
     "data": {
      "text/plain": [
       "array([[ 0.6993643 , -0.46006093,  2.48077331,  2.93132594,  0.64997162,\n",
       "         2.56269782],\n",
       "       [ 0.6993643 , -0.46006093, -0.69232071, -0.29521516,  1.81946281,\n",
       "        -0.39021378],\n",
       "       [ 0.6993643 , -0.46006093,  0.8942263 , -0.29521516,  1.35166633,\n",
       "        -0.39021378],\n",
       "       ...,\n",
       "       [ 0.6993643 , -0.46006093, -0.91897028, -0.29521516,  0.64997162,\n",
       "         2.56269782],\n",
       "       [ 0.6993643 , -0.46006093, -0.23902156, -0.29521516,  0.41607338,\n",
       "         2.56269782],\n",
       "       [ 0.6993643 , -0.46006093, -0.69232071,  2.93132594, -0.28562133,\n",
       "         2.56269782]])"
      ]
     },
     "execution_count": 64,
     "metadata": {},
     "output_type": "execute_result"
    }
   ],
   "source": [
    "#normalisasi data\n",
    "X = preprocessing.StandardScaler().fit(X).transform(X)\n",
    "X"
   ]
  },
  {
   "cell_type": "code",
   "execution_count": 65,
   "id": "07b3cc0b",
   "metadata": {},
   "outputs": [
    {
     "data": {
      "text/plain": [
       "0       1\n",
       "1       0\n",
       "2       0\n",
       "3       0\n",
       "4       0\n",
       "       ..\n",
       "9704    1\n",
       "9705    1\n",
       "9706    1\n",
       "9707    1\n",
       "9708    1\n",
       "Name: Target, Length: 9709, dtype: int64"
      ]
     },
     "execution_count": 65,
     "metadata": {},
     "output_type": "execute_result"
    }
   ],
   "source": [
    "import numpy as np\n",
    "Y = cdf['Target']\n",
    "Y"
   ]
  },
  {
   "cell_type": "markdown",
   "id": "e65e7407",
   "metadata": {},
   "source": [
    "## Logictic Regression"
   ]
  },
  {
   "cell_type": "code",
   "execution_count": 66,
   "id": "095b2872",
   "metadata": {},
   "outputs": [
    {
     "name": "stdout",
     "output_type": "stream",
     "text": [
      "Train Set :  (7767, 6) (7767,)\n",
      "Test Set :  (1942, 6) (1942,)\n"
     ]
    }
   ],
   "source": [
    "#memisahkan data train dan data set dengan perbandingan 8:2\n",
    "from sklearn.model_selection import train_test_split\n",
    "X_train, X_test, Y_train, Y_test = train_test_split(X, Y, test_size=0.2, random_state=4)\n",
    "print('Train Set : ', X_train.shape, Y_train.shape)\n",
    "print('Test Set : ', X_test.shape, Y_test.shape)"
   ]
  },
  {
   "cell_type": "code",
   "execution_count": 67,
   "id": "6e43eae1",
   "metadata": {},
   "outputs": [
    {
     "data": {
      "text/plain": [
       "LogisticRegression(C=0.01, solver='liblinear')"
      ]
     },
     "execution_count": 67,
     "metadata": {},
     "output_type": "execute_result"
    }
   ],
   "source": [
    "from sklearn.linear_model import LogisticRegression\n",
    "from sklearn.metrics import confusion_matrix\n",
    "\n",
    "LR = LogisticRegression(C = 0.01, solver='liblinear').fit(X_train, Y_train)\n",
    "LR"
   ]
  },
  {
   "cell_type": "code",
   "execution_count": 68,
   "id": "a7cfdb8c",
   "metadata": {},
   "outputs": [
    {
     "data": {
      "text/plain": [
       "array([0, 0, 0, ..., 1, 1, 0], dtype=int64)"
      ]
     },
     "execution_count": 68,
     "metadata": {},
     "output_type": "execute_result"
    }
   ],
   "source": [
    "yhat = LR.predict(X_test)\n",
    "yhat"
   ]
  },
  {
   "cell_type": "code",
   "execution_count": 69,
   "id": "68cca495",
   "metadata": {},
   "outputs": [
    {
     "name": "stdout",
     "output_type": "stream",
     "text": [
      "Confusion matrix, without normalization\n",
      "[[ 254    0]\n",
      " [   0 1688]]\n"
     ]
    },
    {
     "data": {
      "image/png": "[encoded data removed]",
      "text/plain": [
       "<Figure size 432x288 with 2 Axes>"
      ]
     },
     "metadata": {
      "needs_background": "light"
     },
     "output_type": "display_data"
    }
   ],
   "source": [
    "#Evaluasi Model\n",
    "from sklearn.metrics import classification_report, confusion_matrix\n",
    "import itertools\n",
    "# code untuk membuat visualiasi confusion matrix\n",
    "def plot_confusion_matrix(cm, classes,normalize=False,title='Confusion matrix',cmap=plt.cm.Blues):\n",
    "    if normalize:\n",
    "        cm = cm.astype('float') / cm.sum(axis=1)[:, np.newaxis]\n",
    "        print(\"Normalized confusion matrix\")\n",
    "    else:\n",
    "        print('Confusion matrix, without normalization')\n",
    "    print(cm)\n",
    "    \n",
    "    plt.imshow(cm, interpolation='nearest', cmap=cmap)\n",
    "    plt.title(title)\n",
    "    plt.colorbar()\n",
    "    tick_marks = np.arange(len(classes))\n",
    "    plt.xticks(tick_marks, classes, rotation=45)\n",
    "    plt.yticks(tick_marks, classes)\n",
    "    \n",
    "    fmt = '.2f' if normalize else 'd'\n",
    "    thresh = cm.max() / 2.\n",
    "    for i, j in itertools.product(range(cm.shape[0]), range(cm.shape[1])):\n",
    "        plt.text(j, i, format(cm[i, j], fmt),horizontalalignment=\"center\",color=\"white\" if cm[i, j] > thresh else \"black\")\n",
    "    \n",
    "    plt.tight_layout()\n",
    "    plt.ylabel('True label')\n",
    "    plt.xlabel('Predicted label')\n",
    "#Confusion matrix\n",
    "cnf = confusion_matrix(Y_test, yhat, labels=[1,0])\n",
    "plt.figure()\n",
    "plot_confusion_matrix(cnf,classes=['output =1', 'output=0'],normalize = False, title='Confusion matrix')"
   ]
  },
  {
   "cell_type": "code",
   "execution_count": 70,
   "id": "51bf35f9",
   "metadata": {},
   "outputs": [
    {
     "name": "stdout",
     "output_type": "stream",
     "text": [
      "              precision    recall  f1-score   support\n",
      "\n",
      "           0       1.00      1.00      1.00      1688\n",
      "           1       1.00      1.00      1.00       254\n",
      "\n",
      "    accuracy                           1.00      1942\n",
      "   macro avg       1.00      1.00      1.00      1942\n",
      "weighted avg       1.00      1.00      1.00      1942\n",
      "\n"
     ]
    }
   ],
   "source": [
    "print (classification_report(Y_test, yhat))\n",
    "# Precission = TP/(TP+FP)\n",
    "# recall = TP/(TP+FN)"
   ]
  },
  {
   "cell_type": "code",
   "execution_count": 71,
   "id": "83f35164",
   "metadata": {},
   "outputs": [],
   "source": [
    "pickle.dump(LR, open('creditcardLR.pkl', 'wb'))"
   ]
  },
  {
   "cell_type": "markdown",
   "id": "bff90c56",
   "metadata": {},
   "source": [
    "## Decision Tree"
   ]
  },
  {
   "cell_type": "markdown",
   "id": "010eaaec",
   "metadata": {},
   "source": [
    "## SVM"
   ]
  },
  {
   "cell_type": "markdown",
   "id": "35f70be9",
   "metadata": {},
   "source": [
    "# Nomor 5"
   ]
  },
  {
   "cell_type": "markdown",
   "id": "2499907d",
   "metadata": {},
   "source": [
    "## Ide"
   ]
  },
  {
   "cell_type": "markdown",
   "id": "31f3f6ad",
   "metadata": {},
   "source": [
    "1. Import data yang akan digunakan dalam format .csv\n",
    "2. Lakukan pre-processing data (memilih 5 fitur yang akan dipakai, melihat detail data, mengonversi data, normalisasi data jika diperlukan oleh model)\n",
    "3. Bentuk train dan test set dengan perbandingan 8:2 (sesuai soal)\n",
    "4. Membuat model Linear regression, dengan 2 model pembanding yang lain\n",
    "5. Memprediksi data X_test dengan model yang telah dibentuk\n",
    "6. Mengevaluasi model (melihat nilai error tiap modelnya)\n",
    "7. Membandingkan 3 model yang telah dibuat dan menarik kesimpulan modek terbaik\n",
    "8. Membuat file .pkl untuk menyimpan model yang sudah dibuat"
   ]
  },
  {
   "cell_type": "code",
   "execution_count": 72,
   "id": "ade4e1b0",
   "metadata": {},
   "outputs": [],
   "source": [
    "#import package yang diperlukan\n",
    "import pandas as pd\n",
    "import numpy as np\n",
    "import matplotlib.pyplot as plt"
   ]
  },
  {
   "cell_type": "code",
   "execution_count": 73,
   "id": "c802def9",
   "metadata": {},
   "outputs": [
    {
     "data": {
      "text/html": [
       "<div>\n",
       "<style scoped>\n",
       "    .dataframe tbody tr th:only-of-type {\n",
       "        vertical-align: middle;\n",
       "    }\n",
       "\n",
       "    .dataframe tbody tr th {\n",
       "        vertical-align: top;\n",
       "    }\n",
       "\n",
       "    .dataframe thead th {\n",
       "        text-align: right;\n",
       "    }\n",
       "</style>\n",
       "<table border=\"1\" class=\"dataframe\">\n",
       "  <thead>\n",
       "    <tr style=\"text-align: right;\">\n",
       "      <th></th>\n",
       "      <th>car_ID</th>\n",
       "      <th>symboling</th>\n",
       "      <th>CarName</th>\n",
       "      <th>fueltype</th>\n",
       "      <th>aspiration</th>\n",
       "      <th>doornumber</th>\n",
       "      <th>carbody</th>\n",
       "      <th>drivewheel</th>\n",
       "      <th>enginelocation</th>\n",
       "      <th>wheelbase</th>\n",
       "      <th>...</th>\n",
       "      <th>enginesize</th>\n",
       "      <th>fuelsystem</th>\n",
       "      <th>boreratio</th>\n",
       "      <th>stroke</th>\n",
       "      <th>compressionratio</th>\n",
       "      <th>horsepower</th>\n",
       "      <th>peakrpm</th>\n",
       "      <th>citympg</th>\n",
       "      <th>highwaympg</th>\n",
       "      <th>price</th>\n",
       "    </tr>\n",
       "  </thead>\n",
       "  <tbody>\n",
       "    <tr>\n",
       "      <th>0</th>\n",
       "      <td>1</td>\n",
       "      <td>3</td>\n",
       "      <td>alfa-romero giulia</td>\n",
       "      <td>gas</td>\n",
       "      <td>std</td>\n",
       "      <td>two</td>\n",
       "      <td>convertible</td>\n",
       "      <td>rwd</td>\n",
       "      <td>front</td>\n",
       "      <td>88.6</td>\n",
       "      <td>...</td>\n",
       "      <td>130</td>\n",
       "      <td>mpfi</td>\n",
       "      <td>3.47</td>\n",
       "      <td>2.68</td>\n",
       "      <td>9.0</td>\n",
       "      <td>111</td>\n",
       "      <td>5000</td>\n",
       "      <td>21</td>\n",
       "      <td>27</td>\n",
       "      <td>13495.0</td>\n",
       "    </tr>\n",
       "    <tr>\n",
       "      <th>1</th>\n",
       "      <td>2</td>\n",
       "      <td>3</td>\n",
       "      <td>alfa-romero stelvio</td>\n",
       "      <td>gas</td>\n",
       "      <td>std</td>\n",
       "      <td>two</td>\n",
       "      <td>convertible</td>\n",
       "      <td>rwd</td>\n",
       "      <td>front</td>\n",
       "      <td>88.6</td>\n",
       "      <td>...</td>\n",
       "      <td>130</td>\n",
       "      <td>mpfi</td>\n",
       "      <td>3.47</td>\n",
       "      <td>2.68</td>\n",
       "      <td>9.0</td>\n",
       "      <td>111</td>\n",
       "      <td>5000</td>\n",
       "      <td>21</td>\n",
       "      <td>27</td>\n",
       "      <td>16500.0</td>\n",
       "    </tr>\n",
       "    <tr>\n",
       "      <th>2</th>\n",
       "      <td>3</td>\n",
       "      <td>1</td>\n",
       "      <td>alfa-romero Quadrifoglio</td>\n",
       "      <td>gas</td>\n",
       "      <td>std</td>\n",
       "      <td>two</td>\n",
       "      <td>hatchback</td>\n",
       "      <td>rwd</td>\n",
       "      <td>front</td>\n",
       "      <td>94.5</td>\n",
       "      <td>...</td>\n",
       "      <td>152</td>\n",
       "      <td>mpfi</td>\n",
       "      <td>2.68</td>\n",
       "      <td>3.47</td>\n",
       "      <td>9.0</td>\n",
       "      <td>154</td>\n",
       "      <td>5000</td>\n",
       "      <td>19</td>\n",
       "      <td>26</td>\n",
       "      <td>16500.0</td>\n",
       "    </tr>\n",
       "    <tr>\n",
       "      <th>3</th>\n",
       "      <td>4</td>\n",
       "      <td>2</td>\n",
       "      <td>audi 100 ls</td>\n",
       "      <td>gas</td>\n",
       "      <td>std</td>\n",
       "      <td>four</td>\n",
       "      <td>sedan</td>\n",
       "      <td>fwd</td>\n",
       "      <td>front</td>\n",
       "      <td>99.8</td>\n",
       "      <td>...</td>\n",
       "      <td>109</td>\n",
       "      <td>mpfi</td>\n",
       "      <td>3.19</td>\n",
       "      <td>3.40</td>\n",
       "      <td>10.0</td>\n",
       "      <td>102</td>\n",
       "      <td>5500</td>\n",
       "      <td>24</td>\n",
       "      <td>30</td>\n",
       "      <td>13950.0</td>\n",
       "    </tr>\n",
       "    <tr>\n",
       "      <th>4</th>\n",
       "      <td>5</td>\n",
       "      <td>2</td>\n",
       "      <td>audi 100ls</td>\n",
       "      <td>gas</td>\n",
       "      <td>std</td>\n",
       "      <td>four</td>\n",
       "      <td>sedan</td>\n",
       "      <td>4wd</td>\n",
       "      <td>front</td>\n",
       "      <td>99.4</td>\n",
       "      <td>...</td>\n",
       "      <td>136</td>\n",
       "      <td>mpfi</td>\n",
       "      <td>3.19</td>\n",
       "      <td>3.40</td>\n",
       "      <td>8.0</td>\n",
       "      <td>115</td>\n",
       "      <td>5500</td>\n",
       "      <td>18</td>\n",
       "      <td>22</td>\n",
       "      <td>17450.0</td>\n",
       "    </tr>\n",
       "    <tr>\n",
       "      <th>...</th>\n",
       "      <td>...</td>\n",
       "      <td>...</td>\n",
       "      <td>...</td>\n",
       "      <td>...</td>\n",
       "      <td>...</td>\n",
       "      <td>...</td>\n",
       "      <td>...</td>\n",
       "      <td>...</td>\n",
       "      <td>...</td>\n",
       "      <td>...</td>\n",
       "      <td>...</td>\n",
       "      <td>...</td>\n",
       "      <td>...</td>\n",
       "      <td>...</td>\n",
       "      <td>...</td>\n",
       "      <td>...</td>\n",
       "      <td>...</td>\n",
       "      <td>...</td>\n",
       "      <td>...</td>\n",
       "      <td>...</td>\n",
       "      <td>...</td>\n",
       "    </tr>\n",
       "    <tr>\n",
       "      <th>200</th>\n",
       "      <td>201</td>\n",
       "      <td>-1</td>\n",
       "      <td>volvo 145e (sw)</td>\n",
       "      <td>gas</td>\n",
       "      <td>std</td>\n",
       "      <td>four</td>\n",
       "      <td>sedan</td>\n",
       "      <td>rwd</td>\n",
       "      <td>front</td>\n",
       "      <td>109.1</td>\n",
       "      <td>...</td>\n",
       "      <td>141</td>\n",
       "      <td>mpfi</td>\n",
       "      <td>3.78</td>\n",
       "      <td>3.15</td>\n",
       "      <td>9.5</td>\n",
       "      <td>114</td>\n",
       "      <td>5400</td>\n",
       "      <td>23</td>\n",
       "      <td>28</td>\n",
       "      <td>16845.0</td>\n",
       "    </tr>\n",
       "    <tr>\n",
       "      <th>201</th>\n",
       "      <td>202</td>\n",
       "      <td>-1</td>\n",
       "      <td>volvo 144ea</td>\n",
       "      <td>gas</td>\n",
       "      <td>turbo</td>\n",
       "      <td>four</td>\n",
       "      <td>sedan</td>\n",
       "      <td>rwd</td>\n",
       "      <td>front</td>\n",
       "      <td>109.1</td>\n",
       "      <td>...</td>\n",
       "      <td>141</td>\n",
       "      <td>mpfi</td>\n",
       "      <td>3.78</td>\n",
       "      <td>3.15</td>\n",
       "      <td>8.7</td>\n",
       "      <td>160</td>\n",
       "      <td>5300</td>\n",
       "      <td>19</td>\n",
       "      <td>25</td>\n",
       "      <td>19045.0</td>\n",
       "    </tr>\n",
       "    <tr>\n",
       "      <th>202</th>\n",
       "      <td>203</td>\n",
       "      <td>-1</td>\n",
       "      <td>volvo 244dl</td>\n",
       "      <td>gas</td>\n",
       "      <td>std</td>\n",
       "      <td>four</td>\n",
       "      <td>sedan</td>\n",
       "      <td>rwd</td>\n",
       "      <td>front</td>\n",
       "      <td>109.1</td>\n",
       "      <td>...</td>\n",
       "      <td>173</td>\n",
       "      <td>mpfi</td>\n",
       "      <td>3.58</td>\n",
       "      <td>2.87</td>\n",
       "      <td>8.8</td>\n",
       "      <td>134</td>\n",
       "      <td>5500</td>\n",
       "      <td>18</td>\n",
       "      <td>23</td>\n",
       "      <td>21485.0</td>\n",
       "    </tr>\n",
       "    <tr>\n",
       "      <th>203</th>\n",
       "      <td>204</td>\n",
       "      <td>-1</td>\n",
       "      <td>volvo 246</td>\n",
       "      <td>diesel</td>\n",
       "      <td>turbo</td>\n",
       "      <td>four</td>\n",
       "      <td>sedan</td>\n",
       "      <td>rwd</td>\n",
       "      <td>front</td>\n",
       "      <td>109.1</td>\n",
       "      <td>...</td>\n",
       "      <td>145</td>\n",
       "      <td>idi</td>\n",
       "      <td>3.01</td>\n",
       "      <td>3.40</td>\n",
       "      <td>23.0</td>\n",
       "      <td>106</td>\n",
       "      <td>4800</td>\n",
       "      <td>26</td>\n",
       "      <td>27</td>\n",
       "      <td>22470.0</td>\n",
       "    </tr>\n",
       "    <tr>\n",
       "      <th>204</th>\n",
       "      <td>205</td>\n",
       "      <td>-1</td>\n",
       "      <td>volvo 264gl</td>\n",
       "      <td>gas</td>\n",
       "      <td>turbo</td>\n",
       "      <td>four</td>\n",
       "      <td>sedan</td>\n",
       "      <td>rwd</td>\n",
       "      <td>front</td>\n",
       "      <td>109.1</td>\n",
       "      <td>...</td>\n",
       "      <td>141</td>\n",
       "      <td>mpfi</td>\n",
       "      <td>3.78</td>\n",
       "      <td>3.15</td>\n",
       "      <td>9.5</td>\n",
       "      <td>114</td>\n",
       "      <td>5400</td>\n",
       "      <td>19</td>\n",
       "      <td>25</td>\n",
       "      <td>22625.0</td>\n",
       "    </tr>\n",
       "  </tbody>\n",
       "</table>\n",
       "<p>205 rows × 26 columns</p>\n",
       "</div>"
      ],
      "text/plain": [
       "     car_ID  symboling                   CarName fueltype aspiration  \\\n",
       "0         1          3        alfa-romero giulia      gas        std   \n",
       "1         2          3       alfa-romero stelvio      gas        std   \n",
       "2         3          1  alfa-romero Quadrifoglio      gas        std   \n",
       "3         4          2               audi 100 ls      gas        std   \n",
       "4         5          2                audi 100ls      gas        std   \n",
       "..      ...        ...                       ...      ...        ...   \n",
       "200     201         -1           volvo 145e (sw)      gas        std   \n",
       "201     202         -1               volvo 144ea      gas      turbo   \n",
       "202     203         -1               volvo 244dl      gas        std   \n",
       "203     204         -1                 volvo 246   diesel      turbo   \n",
       "204     205         -1               volvo 264gl      gas      turbo   \n",
       "\n",
       "    doornumber      carbody drivewheel enginelocation  wheelbase  ...  \\\n",
       "0          two  convertible        rwd          front       88.6  ...   \n",
       "1          two  convertible        rwd          front       88.6  ...   \n",
       "2          two    hatchback        rwd          front       94.5  ...   \n",
       "3         four        sedan        fwd          front       99.8  ...   \n",
       "4         four        sedan        4wd          front       99.4  ...   \n",
       "..         ...          ...        ...            ...        ...  ...   \n",
       "200       four        sedan        rwd          front      109.1  ...   \n",
       "201       four        sedan        rwd          front      109.1  ...   \n",
       "202       four        sedan        rwd          front      109.1  ...   \n",
       "203       four        sedan        rwd          front      109.1  ...   \n",
       "204       four        sedan        rwd          front      109.1  ...   \n",
       "\n",
       "     enginesize  fuelsystem  boreratio  stroke compressionratio horsepower  \\\n",
       "0           130        mpfi       3.47    2.68              9.0        111   \n",
       "1           130        mpfi       3.47    2.68              9.0        111   \n",
       "2           152        mpfi       2.68    3.47              9.0        154   \n",
       "3           109        mpfi       3.19    3.40             10.0        102   \n",
       "4           136        mpfi       3.19    3.40              8.0        115   \n",
       "..          ...         ...        ...     ...              ...        ...   \n",
       "200         141        mpfi       3.78    3.15              9.5        114   \n",
       "201         141        mpfi       3.78    3.15              8.7        160   \n",
       "202         173        mpfi       3.58    2.87              8.8        134   \n",
       "203         145         idi       3.01    3.40             23.0        106   \n",
       "204         141        mpfi       3.78    3.15              9.5        114   \n",
       "\n",
       "     peakrpm citympg  highwaympg    price  \n",
       "0       5000      21          27  13495.0  \n",
       "1       5000      21          27  16500.0  \n",
       "2       5000      19          26  16500.0  \n",
       "3       5500      24          30  13950.0  \n",
       "4       5500      18          22  17450.0  \n",
       "..       ...     ...         ...      ...  \n",
       "200     5400      23          28  16845.0  \n",
       "201     5300      19          25  19045.0  \n",
       "202     5500      18          23  21485.0  \n",
       "203     4800      26          27  22470.0  \n",
       "204     5400      19          25  22625.0  \n",
       "\n",
       "[205 rows x 26 columns]"
      ]
     },
     "execution_count": 73,
     "metadata": {},
     "output_type": "execute_result"
    }
   ],
   "source": [
    "#import data csv\n",
    "\n",
    "car_df = pd.read_csv(r\"C:\\Users\\herar\\Downloads\\CarPrice.csv\")\n",
    "car_df #melihat data yg sudah diimport"
   ]
  },
  {
   "cell_type": "code",
   "execution_count": 74,
   "id": "3e88a4ff",
   "metadata": {},
   "outputs": [
    {
     "data": {
      "text/html": [
       "<div>\n",
       "<style scoped>\n",
       "    .dataframe tbody tr th:only-of-type {\n",
       "        vertical-align: middle;\n",
       "    }\n",
       "\n",
       "    .dataframe tbody tr th {\n",
       "        vertical-align: top;\n",
       "    }\n",
       "\n",
       "    .dataframe thead th {\n",
       "        text-align: right;\n",
       "    }\n",
       "</style>\n",
       "<table border=\"1\" class=\"dataframe\">\n",
       "  <thead>\n",
       "    <tr style=\"text-align: right;\">\n",
       "      <th></th>\n",
       "      <th>wheelbase</th>\n",
       "      <th>enginesize</th>\n",
       "      <th>boreratio</th>\n",
       "      <th>stroke</th>\n",
       "      <th>horsepower</th>\n",
       "      <th>peakrpm</th>\n",
       "      <th>citympg</th>\n",
       "      <th>price</th>\n",
       "    </tr>\n",
       "  </thead>\n",
       "  <tbody>\n",
       "    <tr>\n",
       "      <th>0</th>\n",
       "      <td>88.6</td>\n",
       "      <td>130</td>\n",
       "      <td>3.47</td>\n",
       "      <td>2.68</td>\n",
       "      <td>111</td>\n",
       "      <td>5000</td>\n",
       "      <td>21</td>\n",
       "      <td>13495.0</td>\n",
       "    </tr>\n",
       "    <tr>\n",
       "      <th>1</th>\n",
       "      <td>88.6</td>\n",
       "      <td>130</td>\n",
       "      <td>3.47</td>\n",
       "      <td>2.68</td>\n",
       "      <td>111</td>\n",
       "      <td>5000</td>\n",
       "      <td>21</td>\n",
       "      <td>16500.0</td>\n",
       "    </tr>\n",
       "    <tr>\n",
       "      <th>2</th>\n",
       "      <td>94.5</td>\n",
       "      <td>152</td>\n",
       "      <td>2.68</td>\n",
       "      <td>3.47</td>\n",
       "      <td>154</td>\n",
       "      <td>5000</td>\n",
       "      <td>19</td>\n",
       "      <td>16500.0</td>\n",
       "    </tr>\n",
       "    <tr>\n",
       "      <th>3</th>\n",
       "      <td>99.8</td>\n",
       "      <td>109</td>\n",
       "      <td>3.19</td>\n",
       "      <td>3.40</td>\n",
       "      <td>102</td>\n",
       "      <td>5500</td>\n",
       "      <td>24</td>\n",
       "      <td>13950.0</td>\n",
       "    </tr>\n",
       "    <tr>\n",
       "      <th>4</th>\n",
       "      <td>99.4</td>\n",
       "      <td>136</td>\n",
       "      <td>3.19</td>\n",
       "      <td>3.40</td>\n",
       "      <td>115</td>\n",
       "      <td>5500</td>\n",
       "      <td>18</td>\n",
       "      <td>17450.0</td>\n",
       "    </tr>\n",
       "    <tr>\n",
       "      <th>...</th>\n",
       "      <td>...</td>\n",
       "      <td>...</td>\n",
       "      <td>...</td>\n",
       "      <td>...</td>\n",
       "      <td>...</td>\n",
       "      <td>...</td>\n",
       "      <td>...</td>\n",
       "      <td>...</td>\n",
       "    </tr>\n",
       "    <tr>\n",
       "      <th>200</th>\n",
       "      <td>109.1</td>\n",
       "      <td>141</td>\n",
       "      <td>3.78</td>\n",
       "      <td>3.15</td>\n",
       "      <td>114</td>\n",
       "      <td>5400</td>\n",
       "      <td>23</td>\n",
       "      <td>16845.0</td>\n",
       "    </tr>\n",
       "    <tr>\n",
       "      <th>201</th>\n",
       "      <td>109.1</td>\n",
       "      <td>141</td>\n",
       "      <td>3.78</td>\n",
       "      <td>3.15</td>\n",
       "      <td>160</td>\n",
       "      <td>5300</td>\n",
       "      <td>19</td>\n",
       "      <td>19045.0</td>\n",
       "    </tr>\n",
       "    <tr>\n",
       "      <th>202</th>\n",
       "      <td>109.1</td>\n",
       "      <td>173</td>\n",
       "      <td>3.58</td>\n",
       "      <td>2.87</td>\n",
       "      <td>134</td>\n",
       "      <td>5500</td>\n",
       "      <td>18</td>\n",
       "      <td>21485.0</td>\n",
       "    </tr>\n",
       "    <tr>\n",
       "      <th>203</th>\n",
       "      <td>109.1</td>\n",
       "      <td>145</td>\n",
       "      <td>3.01</td>\n",
       "      <td>3.40</td>\n",
       "      <td>106</td>\n",
       "      <td>4800</td>\n",
       "      <td>26</td>\n",
       "      <td>22470.0</td>\n",
       "    </tr>\n",
       "    <tr>\n",
       "      <th>204</th>\n",
       "      <td>109.1</td>\n",
       "      <td>141</td>\n",
       "      <td>3.78</td>\n",
       "      <td>3.15</td>\n",
       "      <td>114</td>\n",
       "      <td>5400</td>\n",
       "      <td>19</td>\n",
       "      <td>22625.0</td>\n",
       "    </tr>\n",
       "  </tbody>\n",
       "</table>\n",
       "<p>205 rows × 8 columns</p>\n",
       "</div>"
      ],
      "text/plain": [
       "     wheelbase  enginesize  boreratio  stroke  horsepower  peakrpm  citympg  \\\n",
       "0         88.6         130       3.47    2.68         111     5000       21   \n",
       "1         88.6         130       3.47    2.68         111     5000       21   \n",
       "2         94.5         152       2.68    3.47         154     5000       19   \n",
       "3         99.8         109       3.19    3.40         102     5500       24   \n",
       "4         99.4         136       3.19    3.40         115     5500       18   \n",
       "..         ...         ...        ...     ...         ...      ...      ...   \n",
       "200      109.1         141       3.78    3.15         114     5400       23   \n",
       "201      109.1         141       3.78    3.15         160     5300       19   \n",
       "202      109.1         173       3.58    2.87         134     5500       18   \n",
       "203      109.1         145       3.01    3.40         106     4800       26   \n",
       "204      109.1         141       3.78    3.15         114     5400       19   \n",
       "\n",
       "       price  \n",
       "0    13495.0  \n",
       "1    16500.0  \n",
       "2    16500.0  \n",
       "3    13950.0  \n",
       "4    17450.0  \n",
       "..       ...  \n",
       "200  16845.0  \n",
       "201  19045.0  \n",
       "202  21485.0  \n",
       "203  22470.0  \n",
       "204  22625.0  \n",
       "\n",
       "[205 rows x 8 columns]"
      ]
     },
     "execution_count": 74,
     "metadata": {},
     "output_type": "execute_result"
    }
   ],
   "source": [
    "# pilih fitur enginesize, stroke, horsepower, citympg, highwaympg, dan price\n",
    "car2_df = car_df[['wheelbase','enginesize','boreratio','stroke','horsepower','peakrpm','citympg','price']]#variabel cdf berisi fitur yang dipilih\n",
    "car2_df"
   ]
  },
  {
   "cell_type": "code",
   "execution_count": 75,
   "id": "be81b7dc",
   "metadata": {},
   "outputs": [],
   "source": [
    "#membagi data train dan test set\n",
    "msk = np.random.rand(len(car_df)) < 0.8 # membagi data menjadi 8:2 dengan membuat variabel baru msk\n",
    "train = car2_df[msk] \n",
    "test = car2_df[~msk] "
   ]
  },
  {
   "cell_type": "code",
   "execution_count": 76,
   "id": "21433226",
   "metadata": {},
   "outputs": [],
   "source": [
    "#membuat model Linear Regression\n",
    "from sklearn import linear_model\n",
    "carLR = linear_model.LinearRegression()"
   ]
  },
  {
   "cell_type": "markdown",
   "id": "0a9e2f1c",
   "metadata": {},
   "source": [
    "## Membuat model utama"
   ]
  },
  {
   "cell_type": "code",
   "execution_count": 77,
   "id": "eac49bae",
   "metadata": {},
   "outputs": [
    {
     "data": {
      "text/plain": [
       "LinearRegression()"
      ]
     },
     "execution_count": 77,
     "metadata": {},
     "output_type": "execute_result"
    }
   ],
   "source": [
    "#mendefinisikan fitur yang akan di fit ke dalam model\n",
    "X5 = np.array(train[['wheelbase','enginesize','stroke','horsepower','peakrpm']]) \n",
    "Y5 = np.array(train['price'])\n",
    "#fit data training ke model lm\n",
    "carLR.fit(X5, Y5)"
   ]
  },
  {
   "cell_type": "code",
   "execution_count": 78,
   "id": "b2de2ca0",
   "metadata": {},
   "outputs": [
    {
     "name": "stdout",
     "output_type": "stream",
     "text": [
      "Coefficients:  [ 2.27601292e+02  1.23889054e+02 -2.66011600e+03  4.35319964e+01\n",
      "  1.43167499e+00]\n",
      "y-Intercept:  -28146.762880861672\n"
     ]
    }
   ],
   "source": [
    "#output untuk nilai coefficients dan intercept\n",
    "print('Coefficients: ', carLR.coef_)\n",
    "print('y-Intercept: ', carLR.intercept_)"
   ]
  },
  {
   "cell_type": "markdown",
   "id": "d50be5fb",
   "metadata": {},
   "source": [
    "## Model Pembanding 1"
   ]
  },
  {
   "cell_type": "code",
   "execution_count": 79,
   "id": "ff28849c",
   "metadata": {},
   "outputs": [
    {
     "name": "stderr",
     "output_type": "stream",
     "text": [
      "C:\\Users\\herar\\anaconda3\\lib\\site-packages\\sklearn\\base.py:443: UserWarning: X has feature names, but LinearRegression was fitted without feature names\n",
      "  warnings.warn(\n"
     ]
    }
   ],
   "source": [
    "#mendefinisikan fitur lain yang akan di prediksi ke dalam model pembanding 1 \n",
    "X5 = np.array(test[['wheelbase','enginesize','stroke','horsepower','peakrpm']]) #data test untuk fitur\n",
    "Y5 = np.array(test['price']) #data test untuk price\n",
    "Y5_hat = carLR.predict(test[['wheelbase','enginesize','stroke','horsepower','peakrpm']])"
   ]
  },
  {
   "cell_type": "code",
   "execution_count": 80,
   "id": "377163c8",
   "metadata": {},
   "outputs": [
    {
     "name": "stdout",
     "output_type": "stream",
     "text": [
      "Residual Sum of Squares: 13618184.64\n",
      "Variance Score: 0.85\n"
     ]
    }
   ],
   "source": [
    "print(\"Residual Sum of Squares: %.2f\" % np.mean((Y5_hat - Y5) ** 2))\n",
    "print(\"Variance Score: %.2f\" % carLR.score(X5, Y5))"
   ]
  },
  {
   "cell_type": "code",
   "execution_count": 81,
   "id": "1e8a0f51",
   "metadata": {},
   "outputs": [
    {
     "data": {
      "text/plain": [
       "LinearRegression()"
      ]
     },
     "execution_count": 81,
     "metadata": {},
     "output_type": "execute_result"
    }
   ],
   "source": [
    "#mendefinisikan fitur lain yang akan di prediksi ke dalam model pembanding 2\n",
    "X5 = np.array(train[['boreratio','stroke','horsepower','peakrpm','citympg']]) \n",
    "Y5 = np.array(train['price'])\n",
    "carLR.fit(X5, Y5)"
   ]
  },
  {
   "cell_type": "code",
   "execution_count": 82,
   "id": "e7f3448e",
   "metadata": {},
   "outputs": [
    {
     "name": "stdout",
     "output_type": "stream",
     "text": [
      "Coefficients:  [ 866.41401217 -289.2281345   154.58921773   -3.40155688  -94.04839357]\n",
      "y-Intercept:  15083.950701743517\n"
     ]
    }
   ],
   "source": [
    "#output untuk nilai coefficients dan intercept\n",
    "print('Coefficients: ', carLR.coef_)\n",
    "print('y-Intercept: ', carLR.intercept_)"
   ]
  },
  {
   "cell_type": "code",
   "execution_count": 83,
   "id": "f6823304",
   "metadata": {},
   "outputs": [
    {
     "name": "stderr",
     "output_type": "stream",
     "text": [
      "C:\\Users\\herar\\anaconda3\\lib\\site-packages\\sklearn\\base.py:443: UserWarning: X has feature names, but LinearRegression was fitted without feature names\n",
      "  warnings.warn(\n"
     ]
    }
   ],
   "source": [
    "#mendefinisikan fitur yang akan di prediksi ke dalam model \n",
    "X5 = np.array(test[['boreratio','stroke','horsepower','peakrpm','citympg']]) #data test untuk fitur\n",
    "Y5 = np.array(test['price']) #data test untuk price\n",
    "Y5_hat = carLR.predict(test[['boreratio','stroke','horsepower','peakrpm','citympg']])"
   ]
  },
  {
   "cell_type": "code",
   "execution_count": 84,
   "id": "09b3ec8f",
   "metadata": {},
   "outputs": [
    {
     "name": "stdout",
     "output_type": "stream",
     "text": [
      "Residual Sum of Squares: 20245521.13\n",
      "Variance Score: 0.77\n"
     ]
    }
   ],
   "source": [
    "#output dari RSS dan Variance Score\n",
    "print(\"Residual Sum of Squares: %.2f\" % np.mean((Y5_hat - Y5) ** 2))\n",
    "print(\"Variance Score: %.2f\" % carLR.score(X5, Y5))"
   ]
  },
  {
   "cell_type": "code",
   "execution_count": 85,
   "id": "a588fea5",
   "metadata": {},
   "outputs": [
    {
     "data": {
      "text/plain": [
       "LinearRegression()"
      ]
     },
     "execution_count": 85,
     "metadata": {},
     "output_type": "execute_result"
    }
   ],
   "source": [
    "#mendefinisikan fitur yang akan di fit ke dalam model\n",
    "X5 = np.array(train[['enginesize','boreratio','stroke','horsepower','peakrpm']]) \n",
    "Y5 = np.array(train['price'])\n",
    "carLR.fit(X5, Y5)"
   ]
  },
  {
   "cell_type": "code",
   "execution_count": 86,
   "id": "afc94da3",
   "metadata": {},
   "outputs": [
    {
     "name": "stdout",
     "output_type": "stream",
     "text": [
      "Coefficients:  [ 1.46063523e+02  1.84363670e+02 -2.79067932e+03  3.92686260e+01\n",
      "  9.39303053e-01]\n",
      "y-Intercept:  -5602.570839570732\n"
     ]
    }
   ],
   "source": [
    "#output untuk nilai coefficients dan intercept\n",
    "print('Coefficients: ', carLR.coef_)\n",
    "print('y-Intercept: ', carLR.intercept_)"
   ]
  },
  {
   "cell_type": "code",
   "execution_count": 87,
   "id": "49378fca",
   "metadata": {},
   "outputs": [
    {
     "name": "stderr",
     "output_type": "stream",
     "text": [
      "C:\\Users\\herar\\anaconda3\\lib\\site-packages\\sklearn\\base.py:443: UserWarning: X has feature names, but LinearRegression was fitted without feature names\n",
      "  warnings.warn(\n"
     ]
    }
   ],
   "source": [
    "#mendefinisikan fitur yang akan di prediksi ke dalam model \n",
    "X5 = np.array(test[['enginesize','boreratio','stroke','horsepower','peakrpm']]) #data test untuk fitur\n",
    "Y5 = np.array(test['price']) #data test untuk price\n",
    "Y5_hat = carLR.predict(test[['enginesize','boreratio','stroke','horsepower','peakrpm']])"
   ]
  },
  {
   "cell_type": "code",
   "execution_count": 88,
   "id": "6f22fab3",
   "metadata": {},
   "outputs": [
    {
     "name": "stdout",
     "output_type": "stream",
     "text": [
      "Residual Sum of Squares: 16628979.70\n",
      "Variance Score: 0.82\n"
     ]
    }
   ],
   "source": [
    "#output dari RSS dan Variance Score\n",
    "print(\"Residual Sum of Squares: %.2f\" % np.mean((Y5_hat - Y5) ** 2))\n",
    "print(\"Variance Score: %.2f\" % carLR.score(X5, Y5))"
   ]
  },
  {
   "cell_type": "code",
   "execution_count": 89,
   "id": "382860f6",
   "metadata": {},
   "outputs": [],
   "source": [
    "pickle.dump(carLR, open('carLR.pkl', 'wb'))"
   ]
  },
  {
   "cell_type": "markdown",
   "id": "2b5119aa",
   "metadata": {},
   "source": [
    "## Nomor 6"
   ]
  },
  {
   "cell_type": "markdown",
   "id": "6ab79ea5",
   "metadata": {},
   "source": [
    "## Ide"
   ]
  },
  {
   "cell_type": "markdown",
   "id": "1a6e334c",
   "metadata": {},
   "source": [
    "1. Import data yang akan digunakan dalam format.csv\n",
    "2. Melakukan pre-processing data dan mengecek apakah ada missing value dan data duplikat\n",
    "3. Melakukan label encoding untuk data sehingga menjadi data numerik\n",
    "4. Membagi data train dan test dengan perbandingan 8:2\n",
    "5. Membuat model Decission Tree\n",
    "6. Melakukan prediksi dengan X_data\n",
    "7. Mengecek nilai akurasi\n",
    "8. Membuat visualisasi Decision Tree dan Confussion matriks\n",
    "9. Menyimpan model dalam format .pkl"
   ]
  },
  {
   "cell_type": "code",
   "execution_count": 90,
   "id": "d7652db5",
   "metadata": {},
   "outputs": [],
   "source": [
    "import numpy as np # untuk membuat array, melakukan komputasi\n",
    "import pandas as pd # untuk mengolah data\n",
    "from matplotlib import pyplot as plt # untuk visualisasi\n",
    "import sklearn #untuk membuat model machine learning\n",
    "import sklearn.metrics as metrics # untuk mengetahui performa model\n",
    "from sklearn.metrics import classification_report #untuk membuat classification report\n",
    "from sklearn.preprocessing import LabelEncoder #untuk melakukan encoding"
   ]
  },
  {
   "cell_type": "code",
   "execution_count": 91,
   "id": "d1f9a596",
   "metadata": {},
   "outputs": [
    {
     "data": {
      "text/html": [
       "<div>\n",
       "<style scoped>\n",
       "    .dataframe tbody tr th:only-of-type {\n",
       "        vertical-align: middle;\n",
       "    }\n",
       "\n",
       "    .dataframe tbody tr th {\n",
       "        vertical-align: top;\n",
       "    }\n",
       "\n",
       "    .dataframe thead th {\n",
       "        text-align: right;\n",
       "    }\n",
       "</style>\n",
       "<table border=\"1\" class=\"dataframe\">\n",
       "  <thead>\n",
       "    <tr style=\"text-align: right;\">\n",
       "      <th></th>\n",
       "      <th>V1</th>\n",
       "      <th>V2</th>\n",
       "      <th>V3</th>\n",
       "      <th>V4</th>\n",
       "      <th>V5</th>\n",
       "      <th>V6</th>\n",
       "      <th>V7</th>\n",
       "      <th>V8</th>\n",
       "      <th>V9</th>\n",
       "      <th>V10</th>\n",
       "    </tr>\n",
       "  </thead>\n",
       "  <tbody>\n",
       "    <tr>\n",
       "      <th>0</th>\n",
       "      <td>x</td>\n",
       "      <td>x</td>\n",
       "      <td>x</td>\n",
       "      <td>x</td>\n",
       "      <td>o</td>\n",
       "      <td>o</td>\n",
       "      <td>x</td>\n",
       "      <td>o</td>\n",
       "      <td>o</td>\n",
       "      <td>positive</td>\n",
       "    </tr>\n",
       "    <tr>\n",
       "      <th>1</th>\n",
       "      <td>x</td>\n",
       "      <td>x</td>\n",
       "      <td>x</td>\n",
       "      <td>x</td>\n",
       "      <td>o</td>\n",
       "      <td>o</td>\n",
       "      <td>o</td>\n",
       "      <td>x</td>\n",
       "      <td>o</td>\n",
       "      <td>positive</td>\n",
       "    </tr>\n",
       "    <tr>\n",
       "      <th>2</th>\n",
       "      <td>x</td>\n",
       "      <td>x</td>\n",
       "      <td>x</td>\n",
       "      <td>x</td>\n",
       "      <td>o</td>\n",
       "      <td>o</td>\n",
       "      <td>o</td>\n",
       "      <td>o</td>\n",
       "      <td>x</td>\n",
       "      <td>positive</td>\n",
       "    </tr>\n",
       "    <tr>\n",
       "      <th>3</th>\n",
       "      <td>x</td>\n",
       "      <td>x</td>\n",
       "      <td>x</td>\n",
       "      <td>x</td>\n",
       "      <td>o</td>\n",
       "      <td>o</td>\n",
       "      <td>o</td>\n",
       "      <td>b</td>\n",
       "      <td>b</td>\n",
       "      <td>positive</td>\n",
       "    </tr>\n",
       "    <tr>\n",
       "      <th>4</th>\n",
       "      <td>x</td>\n",
       "      <td>x</td>\n",
       "      <td>x</td>\n",
       "      <td>x</td>\n",
       "      <td>o</td>\n",
       "      <td>o</td>\n",
       "      <td>b</td>\n",
       "      <td>o</td>\n",
       "      <td>b</td>\n",
       "      <td>positive</td>\n",
       "    </tr>\n",
       "    <tr>\n",
       "      <th>...</th>\n",
       "      <td>...</td>\n",
       "      <td>...</td>\n",
       "      <td>...</td>\n",
       "      <td>...</td>\n",
       "      <td>...</td>\n",
       "      <td>...</td>\n",
       "      <td>...</td>\n",
       "      <td>...</td>\n",
       "      <td>...</td>\n",
       "      <td>...</td>\n",
       "    </tr>\n",
       "    <tr>\n",
       "      <th>953</th>\n",
       "      <td>o</td>\n",
       "      <td>x</td>\n",
       "      <td>x</td>\n",
       "      <td>x</td>\n",
       "      <td>o</td>\n",
       "      <td>o</td>\n",
       "      <td>o</td>\n",
       "      <td>x</td>\n",
       "      <td>x</td>\n",
       "      <td>negative</td>\n",
       "    </tr>\n",
       "    <tr>\n",
       "      <th>954</th>\n",
       "      <td>o</td>\n",
       "      <td>x</td>\n",
       "      <td>o</td>\n",
       "      <td>x</td>\n",
       "      <td>x</td>\n",
       "      <td>o</td>\n",
       "      <td>x</td>\n",
       "      <td>o</td>\n",
       "      <td>x</td>\n",
       "      <td>negative</td>\n",
       "    </tr>\n",
       "    <tr>\n",
       "      <th>955</th>\n",
       "      <td>o</td>\n",
       "      <td>x</td>\n",
       "      <td>o</td>\n",
       "      <td>x</td>\n",
       "      <td>o</td>\n",
       "      <td>x</td>\n",
       "      <td>x</td>\n",
       "      <td>o</td>\n",
       "      <td>x</td>\n",
       "      <td>negative</td>\n",
       "    </tr>\n",
       "    <tr>\n",
       "      <th>956</th>\n",
       "      <td>o</td>\n",
       "      <td>x</td>\n",
       "      <td>o</td>\n",
       "      <td>o</td>\n",
       "      <td>x</td>\n",
       "      <td>x</td>\n",
       "      <td>x</td>\n",
       "      <td>o</td>\n",
       "      <td>x</td>\n",
       "      <td>negative</td>\n",
       "    </tr>\n",
       "    <tr>\n",
       "      <th>957</th>\n",
       "      <td>o</td>\n",
       "      <td>o</td>\n",
       "      <td>x</td>\n",
       "      <td>x</td>\n",
       "      <td>x</td>\n",
       "      <td>o</td>\n",
       "      <td>o</td>\n",
       "      <td>x</td>\n",
       "      <td>x</td>\n",
       "      <td>negative</td>\n",
       "    </tr>\n",
       "  </tbody>\n",
       "</table>\n",
       "<p>958 rows × 10 columns</p>\n",
       "</div>"
      ],
      "text/plain": [
       "    V1 V2 V3 V4 V5 V6 V7 V8 V9       V10\n",
       "0    x  x  x  x  o  o  x  o  o  positive\n",
       "1    x  x  x  x  o  o  o  x  o  positive\n",
       "2    x  x  x  x  o  o  o  o  x  positive\n",
       "3    x  x  x  x  o  o  o  b  b  positive\n",
       "4    x  x  x  x  o  o  b  o  b  positive\n",
       "..  .. .. .. .. .. .. .. .. ..       ...\n",
       "953  o  x  x  x  o  o  o  x  x  negative\n",
       "954  o  x  o  x  x  o  x  o  x  negative\n",
       "955  o  x  o  x  o  x  x  o  x  negative\n",
       "956  o  x  o  o  x  x  x  o  x  negative\n",
       "957  o  o  x  x  x  o  o  x  x  negative\n",
       "\n",
       "[958 rows x 10 columns]"
      ]
     },
     "execution_count": 91,
     "metadata": {},
     "output_type": "execute_result"
    }
   ],
   "source": [
    "#import data csv\n",
    "\n",
    "tictactoe = pd.read_csv(r\"C:\\Users\\herar\\Downloads\\TicTacToe.csv\")\n",
    "tictactoe #melihat data yg sudah diimport"
   ]
  },
  {
   "cell_type": "markdown",
   "id": "c6536cb3",
   "metadata": {},
   "source": [
    "## Pre-processing data"
   ]
  },
  {
   "cell_type": "code",
   "execution_count": 92,
   "id": "2d8ff7b4",
   "metadata": {},
   "outputs": [
    {
     "data": {
      "text/plain": [
       "V1     object\n",
       "V2     object\n",
       "V3     object\n",
       "V4     object\n",
       "V5     object\n",
       "V6     object\n",
       "V7     object\n",
       "V8     object\n",
       "V9     object\n",
       "V10    object\n",
       "dtype: object"
      ]
     },
     "execution_count": 92,
     "metadata": {},
     "output_type": "execute_result"
    }
   ],
   "source": [
    "tictactoe.dtypes"
   ]
  },
  {
   "cell_type": "code",
   "execution_count": 93,
   "id": "41ad8f3f",
   "metadata": {},
   "outputs": [
    {
     "data": {
      "text/html": [
       "<div>\n",
       "<style scoped>\n",
       "    .dataframe tbody tr th:only-of-type {\n",
       "        vertical-align: middle;\n",
       "    }\n",
       "\n",
       "    .dataframe tbody tr th {\n",
       "        vertical-align: top;\n",
       "    }\n",
       "\n",
       "    .dataframe thead th {\n",
       "        text-align: right;\n",
       "    }\n",
       "</style>\n",
       "<table border=\"1\" class=\"dataframe\">\n",
       "  <thead>\n",
       "    <tr style=\"text-align: right;\">\n",
       "      <th></th>\n",
       "      <th>Column Name</th>\n",
       "      <th>Missing Value Percentage (%)</th>\n",
       "    </tr>\n",
       "  </thead>\n",
       "  <tbody>\n",
       "    <tr>\n",
       "      <th>0</th>\n",
       "      <td>V1</td>\n",
       "      <td>0.0</td>\n",
       "    </tr>\n",
       "    <tr>\n",
       "      <th>1</th>\n",
       "      <td>V2</td>\n",
       "      <td>0.0</td>\n",
       "    </tr>\n",
       "    <tr>\n",
       "      <th>2</th>\n",
       "      <td>V3</td>\n",
       "      <td>0.0</td>\n",
       "    </tr>\n",
       "    <tr>\n",
       "      <th>3</th>\n",
       "      <td>V4</td>\n",
       "      <td>0.0</td>\n",
       "    </tr>\n",
       "    <tr>\n",
       "      <th>4</th>\n",
       "      <td>V5</td>\n",
       "      <td>0.0</td>\n",
       "    </tr>\n",
       "    <tr>\n",
       "      <th>5</th>\n",
       "      <td>V6</td>\n",
       "      <td>0.0</td>\n",
       "    </tr>\n",
       "    <tr>\n",
       "      <th>6</th>\n",
       "      <td>V7</td>\n",
       "      <td>0.0</td>\n",
       "    </tr>\n",
       "    <tr>\n",
       "      <th>7</th>\n",
       "      <td>V8</td>\n",
       "      <td>0.0</td>\n",
       "    </tr>\n",
       "    <tr>\n",
       "      <th>8</th>\n",
       "      <td>V9</td>\n",
       "      <td>0.0</td>\n",
       "    </tr>\n",
       "    <tr>\n",
       "      <th>9</th>\n",
       "      <td>V10</td>\n",
       "      <td>0.0</td>\n",
       "    </tr>\n",
       "  </tbody>\n",
       "</table>\n",
       "</div>"
      ],
      "text/plain": [
       "  Column Name  Missing Value Percentage (%)\n",
       "0          V1                           0.0\n",
       "1          V2                           0.0\n",
       "2          V3                           0.0\n",
       "3          V4                           0.0\n",
       "4          V5                           0.0\n",
       "5          V6                           0.0\n",
       "6          V7                           0.0\n",
       "7          V8                           0.0\n",
       "8          V9                           0.0\n",
       "9         V10                           0.0"
      ]
     },
     "execution_count": 93,
     "metadata": {},
     "output_type": "execute_result"
    }
   ],
   "source": [
    "lst_missval = [] # membuat list kosong\n",
    "\n",
    "for i in tictactoe.isnull().sum(): #melakukan iterasi for loop\n",
    "  lst_missval.append((i / len(tictactoe) * 100)) #append list lst_missval dengan persentase missing value\n",
    "\n",
    "tictactoe_missval = pd.DataFrame({'Column Name':tictactoe.columns, 'Missing Value Percentage (%)':np.round(lst_missval,2)}) #membuat dataframe baru\n",
    "\n",
    "tictactoe_missval.sort_values(by='Missing Value Percentage (%)',  ascending = False).reset_index().drop(columns = 'index') #sorting dataframe baru berdasarkan persentase missing valuenya"
   ]
  },
  {
   "cell_type": "code",
   "execution_count": 94,
   "id": "28aabd25",
   "metadata": {},
   "outputs": [
    {
     "data": {
      "text/html": [
       "<div>\n",
       "<style scoped>\n",
       "    .dataframe tbody tr th:only-of-type {\n",
       "        vertical-align: middle;\n",
       "    }\n",
       "\n",
       "    .dataframe tbody tr th {\n",
       "        vertical-align: top;\n",
       "    }\n",
       "\n",
       "    .dataframe thead th {\n",
       "        text-align: right;\n",
       "    }\n",
       "</style>\n",
       "<table border=\"1\" class=\"dataframe\">\n",
       "  <thead>\n",
       "    <tr style=\"text-align: right;\">\n",
       "      <th></th>\n",
       "      <th>V1</th>\n",
       "      <th>V2</th>\n",
       "      <th>V3</th>\n",
       "      <th>V4</th>\n",
       "      <th>V5</th>\n",
       "      <th>V6</th>\n",
       "      <th>V7</th>\n",
       "      <th>V8</th>\n",
       "      <th>V9</th>\n",
       "      <th>V10</th>\n",
       "    </tr>\n",
       "  </thead>\n",
       "  <tbody>\n",
       "  </tbody>\n",
       "</table>\n",
       "</div>"
      ],
      "text/plain": [
       "Empty DataFrame\n",
       "Columns: [V1, V2, V3, V4, V5, V6, V7, V8, V9, V10]\n",
       "Index: []"
      ]
     },
     "execution_count": 94,
     "metadata": {},
     "output_type": "execute_result"
    }
   ],
   "source": [
    "dupl = tictactoe.duplicated(subset=tictactoe.columns, keep=False) #cek apakah ada data duplikat\n",
    "tictactoe[dupl] #menamplikan data"
   ]
  },
  {
   "cell_type": "code",
   "execution_count": 95,
   "id": "0a945191",
   "metadata": {},
   "outputs": [
    {
     "data": {
      "text/html": [
       "<div>\n",
       "<style scoped>\n",
       "    .dataframe tbody tr th:only-of-type {\n",
       "        vertical-align: middle;\n",
       "    }\n",
       "\n",
       "    .dataframe tbody tr th {\n",
       "        vertical-align: top;\n",
       "    }\n",
       "\n",
       "    .dataframe thead th {\n",
       "        text-align: right;\n",
       "    }\n",
       "</style>\n",
       "<table border=\"1\" class=\"dataframe\">\n",
       "  <thead>\n",
       "    <tr style=\"text-align: right;\">\n",
       "      <th></th>\n",
       "      <th>V1</th>\n",
       "      <th>V2</th>\n",
       "      <th>V3</th>\n",
       "      <th>V4</th>\n",
       "      <th>V5</th>\n",
       "      <th>V6</th>\n",
       "      <th>V7</th>\n",
       "      <th>V8</th>\n",
       "      <th>V9</th>\n",
       "      <th>V10</th>\n",
       "    </tr>\n",
       "  </thead>\n",
       "  <tbody>\n",
       "    <tr>\n",
       "      <th>0</th>\n",
       "      <td>2</td>\n",
       "      <td>2</td>\n",
       "      <td>2</td>\n",
       "      <td>2</td>\n",
       "      <td>1</td>\n",
       "      <td>1</td>\n",
       "      <td>2</td>\n",
       "      <td>1</td>\n",
       "      <td>1</td>\n",
       "      <td>positive</td>\n",
       "    </tr>\n",
       "    <tr>\n",
       "      <th>1</th>\n",
       "      <td>2</td>\n",
       "      <td>2</td>\n",
       "      <td>2</td>\n",
       "      <td>2</td>\n",
       "      <td>1</td>\n",
       "      <td>1</td>\n",
       "      <td>1</td>\n",
       "      <td>2</td>\n",
       "      <td>1</td>\n",
       "      <td>positive</td>\n",
       "    </tr>\n",
       "    <tr>\n",
       "      <th>2</th>\n",
       "      <td>2</td>\n",
       "      <td>2</td>\n",
       "      <td>2</td>\n",
       "      <td>2</td>\n",
       "      <td>1</td>\n",
       "      <td>1</td>\n",
       "      <td>1</td>\n",
       "      <td>1</td>\n",
       "      <td>2</td>\n",
       "      <td>positive</td>\n",
       "    </tr>\n",
       "    <tr>\n",
       "      <th>3</th>\n",
       "      <td>2</td>\n",
       "      <td>2</td>\n",
       "      <td>2</td>\n",
       "      <td>2</td>\n",
       "      <td>1</td>\n",
       "      <td>1</td>\n",
       "      <td>1</td>\n",
       "      <td>0</td>\n",
       "      <td>0</td>\n",
       "      <td>positive</td>\n",
       "    </tr>\n",
       "    <tr>\n",
       "      <th>4</th>\n",
       "      <td>2</td>\n",
       "      <td>2</td>\n",
       "      <td>2</td>\n",
       "      <td>2</td>\n",
       "      <td>1</td>\n",
       "      <td>1</td>\n",
       "      <td>0</td>\n",
       "      <td>1</td>\n",
       "      <td>0</td>\n",
       "      <td>positive</td>\n",
       "    </tr>\n",
       "  </tbody>\n",
       "</table>\n",
       "</div>"
      ],
      "text/plain": [
       "   V1  V2  V3  V4  V5  V6  V7  V8  V9       V10\n",
       "0   2   2   2   2   1   1   2   1   1  positive\n",
       "1   2   2   2   2   1   1   1   2   1  positive\n",
       "2   2   2   2   2   1   1   1   1   2  positive\n",
       "3   2   2   2   2   1   1   1   0   0  positive\n",
       "4   2   2   2   2   1   1   0   1   0  positive"
      ]
     },
     "execution_count": 95,
     "metadata": {},
     "output_type": "execute_result"
    }
   ],
   "source": [
    "lst_encode = ['V1', 'V2', 'V3',\n",
    "              'V4', 'V5', 'V6',\n",
    "              'V7', 'V8', 'V9'] #membuat list dengan nama kolom yang akan di label encode\n",
    "\n",
    "le = LabelEncoder()\n",
    "\n",
    "for i in lst_encode: #melakukan for loop\n",
    "  tictactoe[i] = le.fit_transform(tictactoe[i]) #encode tiap kolom\n",
    "\n",
    "tictactoe.head() # tampilkan 5 data awal"
   ]
  },
  {
   "cell_type": "code",
   "execution_count": 96,
   "id": "6762db4a",
   "metadata": {},
   "outputs": [],
   "source": [
    "X6 = tictactoe.drop(columns='V10') #membuat variabel X6 dengan drop kolom V10\n",
    "Y6 = tictactoe['V10'] #membuat variabel Y6 dengan memilih variabel V10"
   ]
  },
  {
   "cell_type": "markdown",
   "id": "71ca9f90",
   "metadata": {},
   "source": [
    "## Train dan Test Set"
   ]
  },
  {
   "cell_type": "code",
   "execution_count": 97,
   "id": "415d1155",
   "metadata": {},
   "outputs": [],
   "source": [
    "from sklearn.model_selection import train_test_split #untuk membuat train dan test data\n",
    "\n",
    "X_train, X_test, y_train, y_test = train_test_split(X6, Y6, test_size=0.2, random_state=123) # melakukan split data"
   ]
  },
  {
   "cell_type": "markdown",
   "id": "9ceb452a",
   "metadata": {},
   "source": [
    "## Membuat model"
   ]
  },
  {
   "cell_type": "code",
   "execution_count": 98,
   "id": "3591be89",
   "metadata": {},
   "outputs": [
    {
     "data": {
      "text/plain": [
       "DecisionTreeClassifier(random_state=123)"
      ]
     },
     "execution_count": 98,
     "metadata": {},
     "output_type": "execute_result"
    }
   ],
   "source": [
    "from sklearn.tree import DecisionTreeClassifier #untuk membuat model Decision Tree\n",
    "from sklearn import tree #untuk membuat visualisasi decision tree\n",
    "model = DecisionTreeClassifier(random_state=123)\n",
    "model"
   ]
  },
  {
   "cell_type": "code",
   "execution_count": 99,
   "id": "c6ce27ad",
   "metadata": {},
   "outputs": [
    {
     "data": {
      "text/plain": [
       "DecisionTreeClassifier(random_state=123)"
      ]
     },
     "execution_count": 99,
     "metadata": {},
     "output_type": "execute_result"
    }
   ],
   "source": [
    "#melatih model dengan data train\n",
    "model.fit(X_train, y_train)"
   ]
  },
  {
   "cell_type": "code",
   "execution_count": 100,
   "id": "400362a3",
   "metadata": {},
   "outputs": [
    {
     "name": "stdout",
     "output_type": "stream",
     "text": [
      "['positive' 'positive' 'positive' 'positive' 'negative' 'positive'\n",
      " 'negative' 'positive' 'negative' 'negative' 'negative' 'positive'\n",
      " 'positive' 'positive' 'positive' 'positive' 'positive' 'negative'\n",
      " 'positive' 'positive' 'positive' 'negative' 'negative' 'negative'\n",
      " 'positive' 'positive' 'negative' 'positive' 'positive' 'positive'\n",
      " 'positive' 'positive' 'positive' 'positive' 'negative' 'positive'\n",
      " 'positive' 'negative' 'negative' 'positive' 'positive' 'positive'\n",
      " 'negative' 'positive' 'negative' 'negative' 'positive' 'positive'\n",
      " 'negative' 'positive' 'positive' 'positive' 'positive' 'negative'\n",
      " 'negative' 'positive' 'positive' 'positive' 'negative' 'positive'\n",
      " 'negative' 'positive' 'negative' 'positive' 'positive' 'positive'\n",
      " 'positive' 'positive' 'positive' 'positive' 'negative' 'negative'\n",
      " 'negative' 'negative' 'positive' 'positive' 'positive' 'negative'\n",
      " 'positive' 'negative' 'positive' 'negative' 'positive' 'negative'\n",
      " 'positive' 'negative' 'positive' 'positive' 'negative' 'positive'\n",
      " 'positive' 'positive' 'positive' 'positive' 'positive' 'negative'\n",
      " 'positive' 'positive' 'positive' 'negative' 'negative' 'positive'\n",
      " 'positive' 'positive' 'negative' 'positive' 'positive' 'positive'\n",
      " 'positive' 'positive' 'positive' 'positive' 'negative' 'positive'\n",
      " 'negative' 'positive' 'positive' 'positive' 'positive' 'positive'\n",
      " 'positive' 'positive' 'negative' 'positive' 'positive' 'negative'\n",
      " 'positive' 'positive' 'negative' 'negative' 'positive' 'positive'\n",
      " 'positive' 'positive' 'positive' 'positive' 'positive' 'positive'\n",
      " 'positive' 'positive' 'positive' 'positive' 'positive' 'positive'\n",
      " 'negative' 'negative' 'positive' 'negative' 'negative' 'negative'\n",
      " 'positive' 'negative' 'negative' 'positive' 'negative' 'positive'\n",
      " 'positive' 'negative' 'negative' 'negative' 'negative' 'positive'\n",
      " 'positive' 'negative' 'positive' 'positive' 'positive' 'positive'\n",
      " 'positive' 'negative' 'positive' 'positive' 'positive' 'positive'\n",
      " 'positive' 'positive' 'positive' 'positive' 'positive' 'negative'\n",
      " 'positive' 'negative' 'positive' 'negative' 'positive' 'positive'\n",
      " 'positive' 'negative' 'negative' 'positive' 'positive' 'positive']\n"
     ]
    }
   ],
   "source": [
    "#melakukan prediksi\n",
    "Y_pred = model.predict(X_test)\n",
    "print(Y_pred)"
   ]
  },
  {
   "cell_type": "markdown",
   "id": "72940308",
   "metadata": {},
   "source": [
    "## Menghitung akurasi"
   ]
  },
  {
   "cell_type": "code",
   "execution_count": 101,
   "id": "e2bfbf02",
   "metadata": {},
   "outputs": [
    {
     "name": "stdout",
     "output_type": "stream",
     "text": [
      "Nilai akurasi model:  0.9166666666666666\n",
      "F1-Score:  0.9156901041666666\n"
     ]
    }
   ],
   "source": [
    "from sklearn.metrics import accuracy_score, f1_score #untuk menghitung akurasi dan f1score\n",
    "print('Nilai akurasi model: ', metrics.accuracy_score(y_test, Y_pred))\n",
    "print('F1-Score: ', metrics.f1_score(y_test, Y_pred, average='weighted'))"
   ]
  },
  {
   "cell_type": "markdown",
   "id": "32d5f238",
   "metadata": {},
   "source": [
    "## Visualisasi Decision Tree"
   ]
  },
  {
   "cell_type": "code",
   "execution_count": 102,
   "id": "3deacbb4",
   "metadata": {},
   "outputs": [
    {
     "data": {
      "image/png": "[encoded data removed]",
      "text/plain": [
       "<Figure size 1800x1440 with 1 Axes>"
      ]
     },
     "metadata": {
      "needs_background": "light"
     },
     "output_type": "display_data"
    }
   ],
   "source": [
    "fig = plt.figure(figsize=(25,20)) # membuat kanvas dengan ukuran 25x20\n",
    "_ = tree.plot_tree(model, \n",
    "                   feature_names=lst_encode,  \n",
    "                   class_names=tictactoe['V10'],\n",
    "                   filled=True) # melakukan visualisasi Decision Tree"
   ]
  },
  {
   "cell_type": "markdown",
   "id": "c92b4945",
   "metadata": {},
   "source": [
    "## Membuat Confussion matrix"
   ]
  },
  {
   "cell_type": "code",
   "execution_count": 103,
   "id": "7fef6095",
   "metadata": {},
   "outputs": [
    {
     "name": "stderr",
     "output_type": "stream",
     "text": [
      "C:\\Users\\herar\\anaconda3\\lib\\site-packages\\sklearn\\utils\\deprecation.py:87: FutureWarning: Function plot_confusion_matrix is deprecated; Function `plot_confusion_matrix` is deprecated in 1.0 and will be removed in 1.2. Use one of the class methods: ConfusionMatrixDisplay.from_predictions or ConfusionMatrixDisplay.from_estimator.\n",
      "  warnings.warn(msg, category=FutureWarning)\n"
     ]
    },
    {
     "data": {
      "text/plain": [
       "<sklearn.metrics._plot.confusion_matrix.ConfusionMatrixDisplay at 0x1f3bbe39f70>"
      ]
     },
     "execution_count": 103,
     "metadata": {},
     "output_type": "execute_result"
    },
    {
     "data": {
      "image/png": "[encoded data removed]",
      "text/plain": [
       "<Figure size 432x288 with 2 Axes>"
      ]
     },
     "metadata": {
      "needs_background": "light"
     },
     "output_type": "display_data"
    }
   ],
   "source": [
    "from sklearn.metrics import plot_confusion_matrix # untuk membuat visualisasi confusion matrix\n",
    "\n",
    "plot_confusion_matrix(model, X_test, y_test, cmap = plt.cm.GnBu) # membuat confusion matrix"
   ]
  },
  {
   "cell_type": "code",
   "execution_count": 104,
   "id": "06a1adee",
   "metadata": {},
   "outputs": [
    {
     "name": "stdout",
     "output_type": "stream",
     "text": [
      "              precision    recall  f1-score   support\n",
      "\n",
      "    negative       0.92      0.84      0.88        67\n",
      "    positive       0.92      0.96      0.94       125\n",
      "\n",
      "    accuracy                           0.92       192\n",
      "   macro avg       0.92      0.90      0.91       192\n",
      "weighted avg       0.92      0.92      0.92       192\n",
      "\n"
     ]
    }
   ],
   "source": [
    "print(classification_report(y_test, Y_pred)) # membuat classification report"
   ]
  },
  {
   "cell_type": "code",
   "execution_count": 105,
   "id": "2b72228d",
   "metadata": {},
   "outputs": [],
   "source": [
    "pickle.dump(model, open('tictactoe.pkl', 'wb'))"
   ]
  }
 ],
 "metadata": {
  "kernelspec": {
   "display_name": "Python 3 (ipykernel)",
   "language": "python",
   "name": "python3"
  },
  "language_info": {
   "codemirror_mode": {
    "name": "ipython",
    "version": 3
   },
   "file_extension": ".py",
   "mimetype": "text/x-python",
   "name": "python",
   "nbconvert_exporter": "python",
   "pygments_lexer": "ipython3",
   "version": "3.9.7"
  }
 },
 "nbformat": 4,
 "nbformat_minor": 5
}
